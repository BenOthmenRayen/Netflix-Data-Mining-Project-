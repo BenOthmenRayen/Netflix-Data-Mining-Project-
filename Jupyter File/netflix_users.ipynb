{
 "cells": [
  {
   "cell_type": "markdown",
   "metadata": {},
   "source": [
    "Importing necessary libraries for data analysis and visualization"
   ]
  },
  {
   "cell_type": "code",
   "execution_count": 28,
   "metadata": {},
   "outputs": [],
   "source": [
    "import pandas as pd\n",
    "import numpy as np\n",
    "import matplotlib.pyplot as plt\n",
    "import seaborn as sns\n",
    "from scipy import stats\n",
    "\n",
    "\n",
    "plt.style.use('ggplot')"
   ]
  },
  {
   "cell_type": "markdown",
   "metadata": {},
   "source": [
    "Loading the dataset"
   ]
  },
  {
   "cell_type": "code",
   "execution_count": 48,
   "metadata": {},
   "outputs": [],
   "source": [
    "d=pd.read_csv('netflix_users.csv')"
   ]
  },
  {
   "cell_type": "markdown",
   "metadata": {},
   "source": [
    "Resetting the index of the DataFrame"
   ]
  },
  {
   "cell_type": "code",
   "execution_count": 49,
   "metadata": {},
   "outputs": [
    {
     "name": "stderr",
     "output_type": "stream",
     "text": [
      "c:\\Users\\DELL\\anaconda3\\lib\\site-packages\\IPython\\core\\formatters.py:343: FutureWarning: Index.format is deprecated and will be removed in a future version. Convert using index.astype(str) or index.map(formatter) instead.\n",
      "  return method()\n"
     ]
    },
    {
     "data": {
      "text/html": [
       "<div>\n",
       "<style scoped>\n",
       "    .dataframe tbody tr th:only-of-type {\n",
       "        vertical-align: middle;\n",
       "    }\n",
       "\n",
       "    .dataframe tbody tr th {\n",
       "        vertical-align: top;\n",
       "    }\n",
       "\n",
       "    .dataframe thead th {\n",
       "        text-align: right;\n",
       "    }\n",
       "</style>\n",
       "<table border=\"1\" class=\"dataframe\">\n",
       "  <thead>\n",
       "    <tr style=\"text-align: right;\">\n",
       "      <th></th>\n",
       "      <th>user_id</th>\n",
       "      <th>subscription_type</th>\n",
       "      <th>monthly_revenue</th>\n",
       "      <th>country</th>\n",
       "      <th>age</th>\n",
       "      <th>gender</th>\n",
       "      <th>device</th>\n",
       "      <th>plan_duration</th>\n",
       "      <th>subscribed_duration</th>\n",
       "      <th>start_month</th>\n",
       "      <th>clv</th>\n",
       "    </tr>\n",
       "  </thead>\n",
       "  <tbody>\n",
       "    <tr>\n",
       "      <th>0</th>\n",
       "      <td>1</td>\n",
       "      <td>Basic</td>\n",
       "      <td>10</td>\n",
       "      <td>United States</td>\n",
       "      <td>28</td>\n",
       "      <td>Male</td>\n",
       "      <td>Smartphone</td>\n",
       "      <td>1 Month</td>\n",
       "      <td>629</td>\n",
       "      <td>1</td>\n",
       "      <td>6290</td>\n",
       "    </tr>\n",
       "    <tr>\n",
       "      <th>1</th>\n",
       "      <td>2</td>\n",
       "      <td>Premium</td>\n",
       "      <td>15</td>\n",
       "      <td>Canada</td>\n",
       "      <td>35</td>\n",
       "      <td>Female</td>\n",
       "      <td>Tablet</td>\n",
       "      <td>1 Month</td>\n",
       "      <td>774</td>\n",
       "      <td>5</td>\n",
       "      <td>11610</td>\n",
       "    </tr>\n",
       "    <tr>\n",
       "      <th>2</th>\n",
       "      <td>3</td>\n",
       "      <td>Standard</td>\n",
       "      <td>12</td>\n",
       "      <td>United Kingdom</td>\n",
       "      <td>42</td>\n",
       "      <td>Male</td>\n",
       "      <td>Smart TV</td>\n",
       "      <td>1 Month</td>\n",
       "      <td>119</td>\n",
       "      <td>2</td>\n",
       "      <td>1428</td>\n",
       "    </tr>\n",
       "    <tr>\n",
       "      <th>3</th>\n",
       "      <td>4</td>\n",
       "      <td>Standard</td>\n",
       "      <td>12</td>\n",
       "      <td>Australia</td>\n",
       "      <td>51</td>\n",
       "      <td>Female</td>\n",
       "      <td>Laptop</td>\n",
       "      <td>1 Month</td>\n",
       "      <td>262</td>\n",
       "      <td>10</td>\n",
       "      <td>3144</td>\n",
       "    </tr>\n",
       "    <tr>\n",
       "      <th>4</th>\n",
       "      <td>5</td>\n",
       "      <td>Basic</td>\n",
       "      <td>10</td>\n",
       "      <td>Germany</td>\n",
       "      <td>33</td>\n",
       "      <td>Male</td>\n",
       "      <td>Smartphone</td>\n",
       "      <td>1 Month</td>\n",
       "      <td>174</td>\n",
       "      <td>1</td>\n",
       "      <td>1740</td>\n",
       "    </tr>\n",
       "    <tr>\n",
       "      <th>...</th>\n",
       "      <td>...</td>\n",
       "      <td>...</td>\n",
       "      <td>...</td>\n",
       "      <td>...</td>\n",
       "      <td>...</td>\n",
       "      <td>...</td>\n",
       "      <td>...</td>\n",
       "      <td>...</td>\n",
       "      <td>...</td>\n",
       "      <td>...</td>\n",
       "      <td>...</td>\n",
       "    </tr>\n",
       "    <tr>\n",
       "      <th>2495</th>\n",
       "      <td>2496</td>\n",
       "      <td>Premium</td>\n",
       "      <td>14</td>\n",
       "      <td>Spain</td>\n",
       "      <td>28</td>\n",
       "      <td>Female</td>\n",
       "      <td>Smart TV</td>\n",
       "      <td>1 Month</td>\n",
       "      <td>500</td>\n",
       "      <td>7</td>\n",
       "      <td>7000</td>\n",
       "    </tr>\n",
       "    <tr>\n",
       "      <th>2496</th>\n",
       "      <td>2497</td>\n",
       "      <td>Basic</td>\n",
       "      <td>15</td>\n",
       "      <td>Spain</td>\n",
       "      <td>33</td>\n",
       "      <td>Female</td>\n",
       "      <td>Smart TV</td>\n",
       "      <td>1 Month</td>\n",
       "      <td>462</td>\n",
       "      <td>4</td>\n",
       "      <td>6930</td>\n",
       "    </tr>\n",
       "    <tr>\n",
       "      <th>2497</th>\n",
       "      <td>2498</td>\n",
       "      <td>Standard</td>\n",
       "      <td>12</td>\n",
       "      <td>United States</td>\n",
       "      <td>38</td>\n",
       "      <td>Male</td>\n",
       "      <td>Laptop</td>\n",
       "      <td>1 Month</td>\n",
       "      <td>310</td>\n",
       "      <td>9</td>\n",
       "      <td>3720</td>\n",
       "    </tr>\n",
       "    <tr>\n",
       "      <th>2498</th>\n",
       "      <td>2499</td>\n",
       "      <td>Standard</td>\n",
       "      <td>13</td>\n",
       "      <td>Canada</td>\n",
       "      <td>48</td>\n",
       "      <td>Female</td>\n",
       "      <td>Tablet</td>\n",
       "      <td>1 Month</td>\n",
       "      <td>364</td>\n",
       "      <td>12</td>\n",
       "      <td>4732</td>\n",
       "    </tr>\n",
       "    <tr>\n",
       "      <th>2499</th>\n",
       "      <td>2500</td>\n",
       "      <td>Basic</td>\n",
       "      <td>15</td>\n",
       "      <td>United States</td>\n",
       "      <td>35</td>\n",
       "      <td>Female</td>\n",
       "      <td>Smart TV</td>\n",
       "      <td>1 Month</td>\n",
       "      <td>481</td>\n",
       "      <td>8</td>\n",
       "      <td>7215</td>\n",
       "    </tr>\n",
       "  </tbody>\n",
       "</table>\n",
       "<p>2500 rows × 11 columns</p>\n",
       "</div>"
      ],
      "text/plain": [
       "      user_id subscription_type  monthly_revenue         country  age  gender   \n",
       "0           1             Basic               10   United States   28    Male  \\\n",
       "1           2           Premium               15          Canada   35  Female   \n",
       "2           3          Standard               12  United Kingdom   42    Male   \n",
       "3           4          Standard               12       Australia   51  Female   \n",
       "4           5             Basic               10         Germany   33    Male   \n",
       "...       ...               ...              ...             ...  ...     ...   \n",
       "2495     2496           Premium               14           Spain   28  Female   \n",
       "2496     2497             Basic               15           Spain   33  Female   \n",
       "2497     2498          Standard               12   United States   38    Male   \n",
       "2498     2499          Standard               13          Canada   48  Female   \n",
       "2499     2500             Basic               15   United States   35  Female   \n",
       "\n",
       "          device plan_duration  subscribed_duration  start_month    clv  \n",
       "0     Smartphone       1 Month                  629            1   6290  \n",
       "1         Tablet       1 Month                  774            5  11610  \n",
       "2       Smart TV       1 Month                  119            2   1428  \n",
       "3         Laptop       1 Month                  262           10   3144  \n",
       "4     Smartphone       1 Month                  174            1   1740  \n",
       "...          ...           ...                  ...          ...    ...  \n",
       "2495    Smart TV       1 Month                  500            7   7000  \n",
       "2496    Smart TV       1 Month                  462            4   6930  \n",
       "2497      Laptop       1 Month                  310            9   3720  \n",
       "2498      Tablet       1 Month                  364           12   4732  \n",
       "2499    Smart TV       1 Month                  481            8   7215  \n",
       "\n",
       "[2500 rows x 11 columns]"
      ]
     },
     "execution_count": 49,
     "metadata": {},
     "output_type": "execute_result"
    }
   ],
   "source": [
    "d.reset_index(drop=True)"
   ]
  },
  {
   "cell_type": "markdown",
   "metadata": {},
   "source": [
    "Displaying Data Types of Each Column in the Dataset"
   ]
  },
  {
   "cell_type": "code",
   "execution_count": 63,
   "metadata": {},
   "outputs": [
    {
     "name": "stdout",
     "output_type": "stream",
     "text": [
      "user_id                 int64\n",
      "subscription_type      object\n",
      "monthly_revenue         int64\n",
      "country                object\n",
      "age                     int64\n",
      "gender                 object\n",
      "device                 object\n",
      "plan_duration          object\n",
      "subscribed_duration     int64\n",
      "start_month             int64\n",
      "clv                     int64\n",
      "dtype: object\n"
     ]
    }
   ],
   "source": [
    "print(d.dtypes)"
   ]
  },
  {
   "cell_type": "markdown",
   "metadata": {},
   "source": [
    "Displaying the first 5 rows of the dataset"
   ]
  },
  {
   "cell_type": "code",
   "execution_count": 50,
   "metadata": {},
   "outputs": [
    {
     "name": "stderr",
     "output_type": "stream",
     "text": [
      "c:\\Users\\DELL\\anaconda3\\lib\\site-packages\\IPython\\core\\formatters.py:343: FutureWarning: Index.format is deprecated and will be removed in a future version. Convert using index.astype(str) or index.map(formatter) instead.\n",
      "  return method()\n",
      "c:\\Users\\DELL\\anaconda3\\lib\\site-packages\\IPython\\core\\formatters.py:343: FutureWarning: RangeIndex.format is deprecated and will be removed in a future version. Convert using index.astype(str) or index.map(formatter) instead.\n",
      "  return method()\n"
     ]
    },
    {
     "data": {
      "text/html": [
       "<div>\n",
       "<style scoped>\n",
       "    .dataframe tbody tr th:only-of-type {\n",
       "        vertical-align: middle;\n",
       "    }\n",
       "\n",
       "    .dataframe tbody tr th {\n",
       "        vertical-align: top;\n",
       "    }\n",
       "\n",
       "    .dataframe thead th {\n",
       "        text-align: right;\n",
       "    }\n",
       "</style>\n",
       "<table border=\"1\" class=\"dataframe\">\n",
       "  <thead>\n",
       "    <tr style=\"text-align: right;\">\n",
       "      <th></th>\n",
       "      <th>user_id</th>\n",
       "      <th>subscription_type</th>\n",
       "      <th>monthly_revenue</th>\n",
       "      <th>country</th>\n",
       "      <th>age</th>\n",
       "      <th>gender</th>\n",
       "      <th>device</th>\n",
       "      <th>plan_duration</th>\n",
       "      <th>subscribed_duration</th>\n",
       "      <th>start_month</th>\n",
       "      <th>clv</th>\n",
       "    </tr>\n",
       "  </thead>\n",
       "  <tbody>\n",
       "    <tr>\n",
       "      <th>0</th>\n",
       "      <td>1</td>\n",
       "      <td>Basic</td>\n",
       "      <td>10</td>\n",
       "      <td>United States</td>\n",
       "      <td>28</td>\n",
       "      <td>Male</td>\n",
       "      <td>Smartphone</td>\n",
       "      <td>1 Month</td>\n",
       "      <td>629</td>\n",
       "      <td>1</td>\n",
       "      <td>6290</td>\n",
       "    </tr>\n",
       "    <tr>\n",
       "      <th>1</th>\n",
       "      <td>2</td>\n",
       "      <td>Premium</td>\n",
       "      <td>15</td>\n",
       "      <td>Canada</td>\n",
       "      <td>35</td>\n",
       "      <td>Female</td>\n",
       "      <td>Tablet</td>\n",
       "      <td>1 Month</td>\n",
       "      <td>774</td>\n",
       "      <td>5</td>\n",
       "      <td>11610</td>\n",
       "    </tr>\n",
       "    <tr>\n",
       "      <th>2</th>\n",
       "      <td>3</td>\n",
       "      <td>Standard</td>\n",
       "      <td>12</td>\n",
       "      <td>United Kingdom</td>\n",
       "      <td>42</td>\n",
       "      <td>Male</td>\n",
       "      <td>Smart TV</td>\n",
       "      <td>1 Month</td>\n",
       "      <td>119</td>\n",
       "      <td>2</td>\n",
       "      <td>1428</td>\n",
       "    </tr>\n",
       "    <tr>\n",
       "      <th>3</th>\n",
       "      <td>4</td>\n",
       "      <td>Standard</td>\n",
       "      <td>12</td>\n",
       "      <td>Australia</td>\n",
       "      <td>51</td>\n",
       "      <td>Female</td>\n",
       "      <td>Laptop</td>\n",
       "      <td>1 Month</td>\n",
       "      <td>262</td>\n",
       "      <td>10</td>\n",
       "      <td>3144</td>\n",
       "    </tr>\n",
       "    <tr>\n",
       "      <th>4</th>\n",
       "      <td>5</td>\n",
       "      <td>Basic</td>\n",
       "      <td>10</td>\n",
       "      <td>Germany</td>\n",
       "      <td>33</td>\n",
       "      <td>Male</td>\n",
       "      <td>Smartphone</td>\n",
       "      <td>1 Month</td>\n",
       "      <td>174</td>\n",
       "      <td>1</td>\n",
       "      <td>1740</td>\n",
       "    </tr>\n",
       "  </tbody>\n",
       "</table>\n",
       "</div>"
      ],
      "text/plain": [
       "   user_id subscription_type  monthly_revenue         country  age  gender   \n",
       "0        1             Basic               10   United States   28    Male  \\\n",
       "1        2           Premium               15          Canada   35  Female   \n",
       "2        3          Standard               12  United Kingdom   42    Male   \n",
       "3        4          Standard               12       Australia   51  Female   \n",
       "4        5             Basic               10         Germany   33    Male   \n",
       "\n",
       "       device plan_duration  subscribed_duration  start_month    clv  \n",
       "0  Smartphone       1 Month                  629            1   6290  \n",
       "1      Tablet       1 Month                  774            5  11610  \n",
       "2    Smart TV       1 Month                  119            2   1428  \n",
       "3      Laptop       1 Month                  262           10   3144  \n",
       "4  Smartphone       1 Month                  174            1   1740  "
      ]
     },
     "execution_count": 50,
     "metadata": {},
     "output_type": "execute_result"
    }
   ],
   "source": [
    "d.head()"
   ]
  },
  {
   "cell_type": "markdown",
   "metadata": {},
   "source": [
    " Displaying the last 5 rows of the dataset"
   ]
  },
  {
   "cell_type": "code",
   "execution_count": 51,
   "metadata": {},
   "outputs": [
    {
     "name": "stderr",
     "output_type": "stream",
     "text": [
      "c:\\Users\\DELL\\anaconda3\\lib\\site-packages\\IPython\\core\\formatters.py:343: FutureWarning: Index.format is deprecated and will be removed in a future version. Convert using index.astype(str) or index.map(formatter) instead.\n",
      "  return method()\n",
      "c:\\Users\\DELL\\anaconda3\\lib\\site-packages\\IPython\\core\\formatters.py:343: FutureWarning: RangeIndex.format is deprecated and will be removed in a future version. Convert using index.astype(str) or index.map(formatter) instead.\n",
      "  return method()\n"
     ]
    },
    {
     "data": {
      "text/html": [
       "<div>\n",
       "<style scoped>\n",
       "    .dataframe tbody tr th:only-of-type {\n",
       "        vertical-align: middle;\n",
       "    }\n",
       "\n",
       "    .dataframe tbody tr th {\n",
       "        vertical-align: top;\n",
       "    }\n",
       "\n",
       "    .dataframe thead th {\n",
       "        text-align: right;\n",
       "    }\n",
       "</style>\n",
       "<table border=\"1\" class=\"dataframe\">\n",
       "  <thead>\n",
       "    <tr style=\"text-align: right;\">\n",
       "      <th></th>\n",
       "      <th>user_id</th>\n",
       "      <th>subscription_type</th>\n",
       "      <th>monthly_revenue</th>\n",
       "      <th>country</th>\n",
       "      <th>age</th>\n",
       "      <th>gender</th>\n",
       "      <th>device</th>\n",
       "      <th>plan_duration</th>\n",
       "      <th>subscribed_duration</th>\n",
       "      <th>start_month</th>\n",
       "      <th>clv</th>\n",
       "    </tr>\n",
       "  </thead>\n",
       "  <tbody>\n",
       "    <tr>\n",
       "      <th>2495</th>\n",
       "      <td>2496</td>\n",
       "      <td>Premium</td>\n",
       "      <td>14</td>\n",
       "      <td>Spain</td>\n",
       "      <td>28</td>\n",
       "      <td>Female</td>\n",
       "      <td>Smart TV</td>\n",
       "      <td>1 Month</td>\n",
       "      <td>500</td>\n",
       "      <td>7</td>\n",
       "      <td>7000</td>\n",
       "    </tr>\n",
       "    <tr>\n",
       "      <th>2496</th>\n",
       "      <td>2497</td>\n",
       "      <td>Basic</td>\n",
       "      <td>15</td>\n",
       "      <td>Spain</td>\n",
       "      <td>33</td>\n",
       "      <td>Female</td>\n",
       "      <td>Smart TV</td>\n",
       "      <td>1 Month</td>\n",
       "      <td>462</td>\n",
       "      <td>4</td>\n",
       "      <td>6930</td>\n",
       "    </tr>\n",
       "    <tr>\n",
       "      <th>2497</th>\n",
       "      <td>2498</td>\n",
       "      <td>Standard</td>\n",
       "      <td>12</td>\n",
       "      <td>United States</td>\n",
       "      <td>38</td>\n",
       "      <td>Male</td>\n",
       "      <td>Laptop</td>\n",
       "      <td>1 Month</td>\n",
       "      <td>310</td>\n",
       "      <td>9</td>\n",
       "      <td>3720</td>\n",
       "    </tr>\n",
       "    <tr>\n",
       "      <th>2498</th>\n",
       "      <td>2499</td>\n",
       "      <td>Standard</td>\n",
       "      <td>13</td>\n",
       "      <td>Canada</td>\n",
       "      <td>48</td>\n",
       "      <td>Female</td>\n",
       "      <td>Tablet</td>\n",
       "      <td>1 Month</td>\n",
       "      <td>364</td>\n",
       "      <td>12</td>\n",
       "      <td>4732</td>\n",
       "    </tr>\n",
       "    <tr>\n",
       "      <th>2499</th>\n",
       "      <td>2500</td>\n",
       "      <td>Basic</td>\n",
       "      <td>15</td>\n",
       "      <td>United States</td>\n",
       "      <td>35</td>\n",
       "      <td>Female</td>\n",
       "      <td>Smart TV</td>\n",
       "      <td>1 Month</td>\n",
       "      <td>481</td>\n",
       "      <td>8</td>\n",
       "      <td>7215</td>\n",
       "    </tr>\n",
       "  </tbody>\n",
       "</table>\n",
       "</div>"
      ],
      "text/plain": [
       "      user_id subscription_type  monthly_revenue        country  age  gender   \n",
       "2495     2496           Premium               14          Spain   28  Female  \\\n",
       "2496     2497             Basic               15          Spain   33  Female   \n",
       "2497     2498          Standard               12  United States   38    Male   \n",
       "2498     2499          Standard               13         Canada   48  Female   \n",
       "2499     2500             Basic               15  United States   35  Female   \n",
       "\n",
       "        device plan_duration  subscribed_duration  start_month   clv  \n",
       "2495  Smart TV       1 Month                  500            7  7000  \n",
       "2496  Smart TV       1 Month                  462            4  6930  \n",
       "2497    Laptop       1 Month                  310            9  3720  \n",
       "2498    Tablet       1 Month                  364           12  4732  \n",
       "2499  Smart TV       1 Month                  481            8  7215  "
      ]
     },
     "execution_count": 51,
     "metadata": {},
     "output_type": "execute_result"
    }
   ],
   "source": [
    "d.tail(5)"
   ]
  },
  {
   "cell_type": "markdown",
   "metadata": {},
   "source": [
    "Displaying information about the dataset"
   ]
  },
  {
   "cell_type": "code",
   "execution_count": 52,
   "metadata": {},
   "outputs": [
    {
     "data": {
      "text/plain": [
       "<bound method DataFrame.info of       user_id subscription_type  monthly_revenue         country  age  gender   \n",
       "0           1             Basic               10   United States   28    Male  \\\n",
       "1           2           Premium               15          Canada   35  Female   \n",
       "2           3          Standard               12  United Kingdom   42    Male   \n",
       "3           4          Standard               12       Australia   51  Female   \n",
       "4           5             Basic               10         Germany   33    Male   \n",
       "...       ...               ...              ...             ...  ...     ...   \n",
       "2495     2496           Premium               14           Spain   28  Female   \n",
       "2496     2497             Basic               15           Spain   33  Female   \n",
       "2497     2498          Standard               12   United States   38    Male   \n",
       "2498     2499          Standard               13          Canada   48  Female   \n",
       "2499     2500             Basic               15   United States   35  Female   \n",
       "\n",
       "          device plan_duration  subscribed_duration  start_month    clv  \n",
       "0     Smartphone       1 Month                  629            1   6290  \n",
       "1         Tablet       1 Month                  774            5  11610  \n",
       "2       Smart TV       1 Month                  119            2   1428  \n",
       "3         Laptop       1 Month                  262           10   3144  \n",
       "4     Smartphone       1 Month                  174            1   1740  \n",
       "...          ...           ...                  ...          ...    ...  \n",
       "2495    Smart TV       1 Month                  500            7   7000  \n",
       "2496    Smart TV       1 Month                  462            4   6930  \n",
       "2497      Laptop       1 Month                  310            9   3720  \n",
       "2498      Tablet       1 Month                  364           12   4732  \n",
       "2499    Smart TV       1 Month                  481            8   7215  \n",
       "\n",
       "[2500 rows x 11 columns]>"
      ]
     },
     "execution_count": 52,
     "metadata": {},
     "output_type": "execute_result"
    }
   ],
   "source": [
    "d.info"
   ]
  },
  {
   "cell_type": "markdown",
   "metadata": {},
   "source": [
    "Generating descriptive statistics for numerical columns"
   ]
  },
  {
   "cell_type": "code",
   "execution_count": 53,
   "metadata": {},
   "outputs": [
    {
     "name": "stderr",
     "output_type": "stream",
     "text": [
      "c:\\Users\\DELL\\anaconda3\\lib\\site-packages\\IPython\\core\\formatters.py:343: FutureWarning: Index.format is deprecated and will be removed in a future version. Convert using index.astype(str) or index.map(formatter) instead.\n",
      "  return method()\n"
     ]
    },
    {
     "data": {
      "text/html": [
       "<div>\n",
       "<style scoped>\n",
       "    .dataframe tbody tr th:only-of-type {\n",
       "        vertical-align: middle;\n",
       "    }\n",
       "\n",
       "    .dataframe tbody tr th {\n",
       "        vertical-align: top;\n",
       "    }\n",
       "\n",
       "    .dataframe thead th {\n",
       "        text-align: right;\n",
       "    }\n",
       "</style>\n",
       "<table border=\"1\" class=\"dataframe\">\n",
       "  <thead>\n",
       "    <tr style=\"text-align: right;\">\n",
       "      <th></th>\n",
       "      <th>user_id</th>\n",
       "      <th>monthly_revenue</th>\n",
       "      <th>age</th>\n",
       "      <th>subscribed_duration</th>\n",
       "      <th>start_month</th>\n",
       "      <th>clv</th>\n",
       "    </tr>\n",
       "  </thead>\n",
       "  <tbody>\n",
       "    <tr>\n",
       "      <th>count</th>\n",
       "      <td>2500.00000</td>\n",
       "      <td>2500.000000</td>\n",
       "      <td>2500.000000</td>\n",
       "      <td>2500.000000</td>\n",
       "      <td>2500.000000</td>\n",
       "      <td>2500.000000</td>\n",
       "    </tr>\n",
       "    <tr>\n",
       "      <th>mean</th>\n",
       "      <td>1250.50000</td>\n",
       "      <td>12.508400</td>\n",
       "      <td>38.795600</td>\n",
       "      <td>326.102000</td>\n",
       "      <td>7.323200</td>\n",
       "      <td>4078.090000</td>\n",
       "    </tr>\n",
       "    <tr>\n",
       "      <th>std</th>\n",
       "      <td>721.83216</td>\n",
       "      <td>1.686851</td>\n",
       "      <td>7.171778</td>\n",
       "      <td>118.638034</td>\n",
       "      <td>2.712653</td>\n",
       "      <td>1586.723224</td>\n",
       "    </tr>\n",
       "    <tr>\n",
       "      <th>min</th>\n",
       "      <td>1.00000</td>\n",
       "      <td>10.000000</td>\n",
       "      <td>26.000000</td>\n",
       "      <td>-159.000000</td>\n",
       "      <td>1.000000</td>\n",
       "      <td>-2226.000000</td>\n",
       "    </tr>\n",
       "    <tr>\n",
       "      <th>25%</th>\n",
       "      <td>625.75000</td>\n",
       "      <td>11.000000</td>\n",
       "      <td>32.000000</td>\n",
       "      <td>247.000000</td>\n",
       "      <td>6.000000</td>\n",
       "      <td>3013.500000</td>\n",
       "    </tr>\n",
       "    <tr>\n",
       "      <th>50%</th>\n",
       "      <td>1250.50000</td>\n",
       "      <td>12.000000</td>\n",
       "      <td>39.000000</td>\n",
       "      <td>331.000000</td>\n",
       "      <td>7.000000</td>\n",
       "      <td>3976.000000</td>\n",
       "    </tr>\n",
       "    <tr>\n",
       "      <th>75%</th>\n",
       "      <td>1875.25000</td>\n",
       "      <td>14.000000</td>\n",
       "      <td>45.000000</td>\n",
       "      <td>401.250000</td>\n",
       "      <td>10.000000</td>\n",
       "      <td>5096.000000</td>\n",
       "    </tr>\n",
       "    <tr>\n",
       "      <th>max</th>\n",
       "      <td>2500.00000</td>\n",
       "      <td>15.000000</td>\n",
       "      <td>51.000000</td>\n",
       "      <td>776.000000</td>\n",
       "      <td>12.000000</td>\n",
       "      <td>11610.000000</td>\n",
       "    </tr>\n",
       "  </tbody>\n",
       "</table>\n",
       "</div>"
      ],
      "text/plain": [
       "          user_id  monthly_revenue          age  subscribed_duration   \n",
       "count  2500.00000      2500.000000  2500.000000          2500.000000  \\\n",
       "mean   1250.50000        12.508400    38.795600           326.102000   \n",
       "std     721.83216         1.686851     7.171778           118.638034   \n",
       "min       1.00000        10.000000    26.000000          -159.000000   \n",
       "25%     625.75000        11.000000    32.000000           247.000000   \n",
       "50%    1250.50000        12.000000    39.000000           331.000000   \n",
       "75%    1875.25000        14.000000    45.000000           401.250000   \n",
       "max    2500.00000        15.000000    51.000000           776.000000   \n",
       "\n",
       "       start_month           clv  \n",
       "count  2500.000000   2500.000000  \n",
       "mean      7.323200   4078.090000  \n",
       "std       2.712653   1586.723224  \n",
       "min       1.000000  -2226.000000  \n",
       "25%       6.000000   3013.500000  \n",
       "50%       7.000000   3976.000000  \n",
       "75%      10.000000   5096.000000  \n",
       "max      12.000000  11610.000000  "
      ]
     },
     "execution_count": 53,
     "metadata": {},
     "output_type": "execute_result"
    }
   ],
   "source": [
    "d.describe()"
   ]
  },
  {
   "cell_type": "markdown",
   "metadata": {},
   "source": [
    "Generating descriptive statistics for all columns"
   ]
  },
  {
   "cell_type": "code",
   "execution_count": 54,
   "metadata": {},
   "outputs": [
    {
     "name": "stderr",
     "output_type": "stream",
     "text": [
      "c:\\Users\\DELL\\anaconda3\\lib\\site-packages\\IPython\\core\\formatters.py:343: FutureWarning: Index.format is deprecated and will be removed in a future version. Convert using index.astype(str) or index.map(formatter) instead.\n",
      "  return method()\n"
     ]
    },
    {
     "data": {
      "text/html": [
       "<div>\n",
       "<style scoped>\n",
       "    .dataframe tbody tr th:only-of-type {\n",
       "        vertical-align: middle;\n",
       "    }\n",
       "\n",
       "    .dataframe tbody tr th {\n",
       "        vertical-align: top;\n",
       "    }\n",
       "\n",
       "    .dataframe thead th {\n",
       "        text-align: right;\n",
       "    }\n",
       "</style>\n",
       "<table border=\"1\" class=\"dataframe\">\n",
       "  <thead>\n",
       "    <tr style=\"text-align: right;\">\n",
       "      <th></th>\n",
       "      <th>user_id</th>\n",
       "      <th>subscription_type</th>\n",
       "      <th>monthly_revenue</th>\n",
       "      <th>country</th>\n",
       "      <th>age</th>\n",
       "      <th>gender</th>\n",
       "      <th>device</th>\n",
       "      <th>plan_duration</th>\n",
       "      <th>subscribed_duration</th>\n",
       "      <th>start_month</th>\n",
       "      <th>clv</th>\n",
       "    </tr>\n",
       "  </thead>\n",
       "  <tbody>\n",
       "    <tr>\n",
       "      <th>count</th>\n",
       "      <td>2500.00000</td>\n",
       "      <td>2500</td>\n",
       "      <td>2500.000000</td>\n",
       "      <td>2500</td>\n",
       "      <td>2500.000000</td>\n",
       "      <td>2500</td>\n",
       "      <td>2500</td>\n",
       "      <td>2500</td>\n",
       "      <td>2500.000000</td>\n",
       "      <td>2500.000000</td>\n",
       "      <td>2500.000000</td>\n",
       "    </tr>\n",
       "    <tr>\n",
       "      <th>unique</th>\n",
       "      <td>NaN</td>\n",
       "      <td>3</td>\n",
       "      <td>NaN</td>\n",
       "      <td>10</td>\n",
       "      <td>NaN</td>\n",
       "      <td>2</td>\n",
       "      <td>4</td>\n",
       "      <td>1</td>\n",
       "      <td>NaN</td>\n",
       "      <td>NaN</td>\n",
       "      <td>NaN</td>\n",
       "    </tr>\n",
       "    <tr>\n",
       "      <th>top</th>\n",
       "      <td>NaN</td>\n",
       "      <td>Basic</td>\n",
       "      <td>NaN</td>\n",
       "      <td>United States</td>\n",
       "      <td>NaN</td>\n",
       "      <td>Female</td>\n",
       "      <td>Laptop</td>\n",
       "      <td>1 Month</td>\n",
       "      <td>NaN</td>\n",
       "      <td>NaN</td>\n",
       "      <td>NaN</td>\n",
       "    </tr>\n",
       "    <tr>\n",
       "      <th>freq</th>\n",
       "      <td>NaN</td>\n",
       "      <td>999</td>\n",
       "      <td>NaN</td>\n",
       "      <td>451</td>\n",
       "      <td>NaN</td>\n",
       "      <td>1257</td>\n",
       "      <td>636</td>\n",
       "      <td>2500</td>\n",
       "      <td>NaN</td>\n",
       "      <td>NaN</td>\n",
       "      <td>NaN</td>\n",
       "    </tr>\n",
       "    <tr>\n",
       "      <th>mean</th>\n",
       "      <td>1250.50000</td>\n",
       "      <td>NaN</td>\n",
       "      <td>12.508400</td>\n",
       "      <td>NaN</td>\n",
       "      <td>38.795600</td>\n",
       "      <td>NaN</td>\n",
       "      <td>NaN</td>\n",
       "      <td>NaN</td>\n",
       "      <td>326.102000</td>\n",
       "      <td>7.323200</td>\n",
       "      <td>4078.090000</td>\n",
       "    </tr>\n",
       "    <tr>\n",
       "      <th>std</th>\n",
       "      <td>721.83216</td>\n",
       "      <td>NaN</td>\n",
       "      <td>1.686851</td>\n",
       "      <td>NaN</td>\n",
       "      <td>7.171778</td>\n",
       "      <td>NaN</td>\n",
       "      <td>NaN</td>\n",
       "      <td>NaN</td>\n",
       "      <td>118.638034</td>\n",
       "      <td>2.712653</td>\n",
       "      <td>1586.723224</td>\n",
       "    </tr>\n",
       "    <tr>\n",
       "      <th>min</th>\n",
       "      <td>1.00000</td>\n",
       "      <td>NaN</td>\n",
       "      <td>10.000000</td>\n",
       "      <td>NaN</td>\n",
       "      <td>26.000000</td>\n",
       "      <td>NaN</td>\n",
       "      <td>NaN</td>\n",
       "      <td>NaN</td>\n",
       "      <td>-159.000000</td>\n",
       "      <td>1.000000</td>\n",
       "      <td>-2226.000000</td>\n",
       "    </tr>\n",
       "    <tr>\n",
       "      <th>25%</th>\n",
       "      <td>625.75000</td>\n",
       "      <td>NaN</td>\n",
       "      <td>11.000000</td>\n",
       "      <td>NaN</td>\n",
       "      <td>32.000000</td>\n",
       "      <td>NaN</td>\n",
       "      <td>NaN</td>\n",
       "      <td>NaN</td>\n",
       "      <td>247.000000</td>\n",
       "      <td>6.000000</td>\n",
       "      <td>3013.500000</td>\n",
       "    </tr>\n",
       "    <tr>\n",
       "      <th>50%</th>\n",
       "      <td>1250.50000</td>\n",
       "      <td>NaN</td>\n",
       "      <td>12.000000</td>\n",
       "      <td>NaN</td>\n",
       "      <td>39.000000</td>\n",
       "      <td>NaN</td>\n",
       "      <td>NaN</td>\n",
       "      <td>NaN</td>\n",
       "      <td>331.000000</td>\n",
       "      <td>7.000000</td>\n",
       "      <td>3976.000000</td>\n",
       "    </tr>\n",
       "    <tr>\n",
       "      <th>75%</th>\n",
       "      <td>1875.25000</td>\n",
       "      <td>NaN</td>\n",
       "      <td>14.000000</td>\n",
       "      <td>NaN</td>\n",
       "      <td>45.000000</td>\n",
       "      <td>NaN</td>\n",
       "      <td>NaN</td>\n",
       "      <td>NaN</td>\n",
       "      <td>401.250000</td>\n",
       "      <td>10.000000</td>\n",
       "      <td>5096.000000</td>\n",
       "    </tr>\n",
       "    <tr>\n",
       "      <th>max</th>\n",
       "      <td>2500.00000</td>\n",
       "      <td>NaN</td>\n",
       "      <td>15.000000</td>\n",
       "      <td>NaN</td>\n",
       "      <td>51.000000</td>\n",
       "      <td>NaN</td>\n",
       "      <td>NaN</td>\n",
       "      <td>NaN</td>\n",
       "      <td>776.000000</td>\n",
       "      <td>12.000000</td>\n",
       "      <td>11610.000000</td>\n",
       "    </tr>\n",
       "  </tbody>\n",
       "</table>\n",
       "</div>"
      ],
      "text/plain": [
       "           user_id subscription_type  monthly_revenue        country   \n",
       "count   2500.00000              2500      2500.000000           2500  \\\n",
       "unique         NaN                 3              NaN             10   \n",
       "top            NaN             Basic              NaN  United States   \n",
       "freq           NaN               999              NaN            451   \n",
       "mean    1250.50000               NaN        12.508400            NaN   \n",
       "std      721.83216               NaN         1.686851            NaN   \n",
       "min        1.00000               NaN        10.000000            NaN   \n",
       "25%      625.75000               NaN        11.000000            NaN   \n",
       "50%     1250.50000               NaN        12.000000            NaN   \n",
       "75%     1875.25000               NaN        14.000000            NaN   \n",
       "max     2500.00000               NaN        15.000000            NaN   \n",
       "\n",
       "                age  gender  device plan_duration  subscribed_duration   \n",
       "count   2500.000000    2500    2500          2500          2500.000000  \\\n",
       "unique          NaN       2       4             1                  NaN   \n",
       "top             NaN  Female  Laptop       1 Month                  NaN   \n",
       "freq            NaN    1257     636          2500                  NaN   \n",
       "mean      38.795600     NaN     NaN           NaN           326.102000   \n",
       "std        7.171778     NaN     NaN           NaN           118.638034   \n",
       "min       26.000000     NaN     NaN           NaN          -159.000000   \n",
       "25%       32.000000     NaN     NaN           NaN           247.000000   \n",
       "50%       39.000000     NaN     NaN           NaN           331.000000   \n",
       "75%       45.000000     NaN     NaN           NaN           401.250000   \n",
       "max       51.000000     NaN     NaN           NaN           776.000000   \n",
       "\n",
       "        start_month           clv  \n",
       "count   2500.000000   2500.000000  \n",
       "unique          NaN           NaN  \n",
       "top             NaN           NaN  \n",
       "freq            NaN           NaN  \n",
       "mean       7.323200   4078.090000  \n",
       "std        2.712653   1586.723224  \n",
       "min        1.000000  -2226.000000  \n",
       "25%        6.000000   3013.500000  \n",
       "50%        7.000000   3976.000000  \n",
       "75%       10.000000   5096.000000  \n",
       "max       12.000000  11610.000000  "
      ]
     },
     "execution_count": 54,
     "metadata": {},
     "output_type": "execute_result"
    }
   ],
   "source": [
    "d.describe(include = 'all')"
   ]
  },
  {
   "cell_type": "markdown",
   "metadata": {},
   "source": [
    "Counting the occurrences of each subscription type"
   ]
  },
  {
   "cell_type": "code",
   "execution_count": 55,
   "metadata": {},
   "outputs": [
    {
     "data": {
      "text/plain": [
       "subscription_type\n",
       "Basic       999\n",
       "Standard    768\n",
       "Premium     733\n",
       "Name: count, dtype: int64"
      ]
     },
     "execution_count": 55,
     "metadata": {},
     "output_type": "execute_result"
    }
   ],
   "source": [
    "d[\"subscription_type\"].value_counts()"
   ]
  },
  {
   "cell_type": "markdown",
   "metadata": {},
   "source": [
    "Counting the Occurrences of Each Gender, Including Missing Values"
   ]
  },
  {
   "cell_type": "code",
   "execution_count": 64,
   "metadata": {},
   "outputs": [
    {
     "data": {
      "text/plain": [
       "gender\n",
       "Female    1257\n",
       "Male      1243\n",
       "Name: count, dtype: int64"
      ]
     },
     "execution_count": 64,
     "metadata": {},
     "output_type": "execute_result"
    }
   ],
   "source": [
    "d['gender'].value_counts(dropna=False)"
   ]
  },
  {
   "cell_type": "markdown",
   "metadata": {},
   "source": [
    "Removing Rows with Missing Values in the 'gender' Column"
   ]
  },
  {
   "cell_type": "code",
   "execution_count": 65,
   "metadata": {},
   "outputs": [
    {
     "data": {
      "text/plain": [
       "gender\n",
       "Female    1257\n",
       "Male      1243\n",
       "Name: count, dtype: int64"
      ]
     },
     "execution_count": 65,
     "metadata": {},
     "output_type": "execute_result"
    }
   ],
   "source": [
    "d['gender'].value_counts(dropna=False)"
   ]
  },
  {
   "cell_type": "markdown",
   "metadata": {},
   "source": [
    "Calculating the percentage distribution of subscription types"
   ]
  },
  {
   "cell_type": "code",
   "execution_count": 56,
   "metadata": {},
   "outputs": [
    {
     "data": {
      "text/plain": [
       "subscription_type\n",
       "Basic       39.96\n",
       "Standard    30.72\n",
       "Premium     29.32\n",
       "Name: proportion, dtype: float64"
      ]
     },
     "execution_count": 56,
     "metadata": {},
     "output_type": "execute_result"
    }
   ],
   "source": [
    "d[\"subscription_type\"].value_counts(normalize=True)*100"
   ]
  },
  {
   "cell_type": "markdown",
   "metadata": {},
   "source": [
    "Querying the dataset for a specific user ID"
   ]
  },
  {
   "cell_type": "code",
   "execution_count": 57,
   "metadata": {},
   "outputs": [
    {
     "name": "stderr",
     "output_type": "stream",
     "text": [
      "c:\\Users\\DELL\\anaconda3\\lib\\site-packages\\IPython\\core\\formatters.py:343: FutureWarning: Index.format is deprecated and will be removed in a future version. Convert using index.astype(str) or index.map(formatter) instead.\n",
      "  return method()\n"
     ]
    },
    {
     "data": {
      "text/html": [
       "<div>\n",
       "<style scoped>\n",
       "    .dataframe tbody tr th:only-of-type {\n",
       "        vertical-align: middle;\n",
       "    }\n",
       "\n",
       "    .dataframe tbody tr th {\n",
       "        vertical-align: top;\n",
       "    }\n",
       "\n",
       "    .dataframe thead th {\n",
       "        text-align: right;\n",
       "    }\n",
       "</style>\n",
       "<table border=\"1\" class=\"dataframe\">\n",
       "  <thead>\n",
       "    <tr style=\"text-align: right;\">\n",
       "      <th></th>\n",
       "      <th>user_id</th>\n",
       "      <th>subscription_type</th>\n",
       "      <th>monthly_revenue</th>\n",
       "      <th>country</th>\n",
       "      <th>age</th>\n",
       "      <th>gender</th>\n",
       "      <th>device</th>\n",
       "      <th>plan_duration</th>\n",
       "      <th>subscribed_duration</th>\n",
       "      <th>start_month</th>\n",
       "      <th>clv</th>\n",
       "    </tr>\n",
       "  </thead>\n",
       "  <tbody>\n",
       "    <tr>\n",
       "      <th>99</th>\n",
       "      <td>100</td>\n",
       "      <td>Basic</td>\n",
       "      <td>12</td>\n",
       "      <td>Italy</td>\n",
       "      <td>35</td>\n",
       "      <td>Male</td>\n",
       "      <td>Laptop</td>\n",
       "      <td>1 Month</td>\n",
       "      <td>154</td>\n",
       "      <td>1</td>\n",
       "      <td>1848</td>\n",
       "    </tr>\n",
       "  </tbody>\n",
       "</table>\n",
       "</div>"
      ],
      "text/plain": [
       "    user_id subscription_type  monthly_revenue country  age gender  device   \n",
       "99      100             Basic               12   Italy   35   Male  Laptop  \\\n",
       "\n",
       "   plan_duration  subscribed_duration  start_month   clv  \n",
       "99       1 Month                  154            1  1848  "
      ]
     },
     "execution_count": 57,
     "metadata": {},
     "output_type": "execute_result"
    }
   ],
   "source": [
    "d.query('user_id == 100')"
   ]
  },
  {
   "cell_type": "markdown",
   "metadata": {},
   "source": [
    "Filtering premium users with user_id > 100"
   ]
  },
  {
   "cell_type": "code",
   "execution_count": 58,
   "metadata": {},
   "outputs": [
    {
     "name": "stderr",
     "output_type": "stream",
     "text": [
      "c:\\Users\\DELL\\anaconda3\\lib\\site-packages\\IPython\\core\\formatters.py:343: FutureWarning: Index.format is deprecated and will be removed in a future version. Convert using index.astype(str) or index.map(formatter) instead.\n",
      "  return method()\n"
     ]
    },
    {
     "data": {
      "text/html": [
       "<div>\n",
       "<style scoped>\n",
       "    .dataframe tbody tr th:only-of-type {\n",
       "        vertical-align: middle;\n",
       "    }\n",
       "\n",
       "    .dataframe tbody tr th {\n",
       "        vertical-align: top;\n",
       "    }\n",
       "\n",
       "    .dataframe thead th {\n",
       "        text-align: right;\n",
       "    }\n",
       "</style>\n",
       "<table border=\"1\" class=\"dataframe\">\n",
       "  <thead>\n",
       "    <tr style=\"text-align: right;\">\n",
       "      <th></th>\n",
       "      <th>user_id</th>\n",
       "      <th>subscription_type</th>\n",
       "      <th>monthly_revenue</th>\n",
       "      <th>country</th>\n",
       "      <th>age</th>\n",
       "      <th>gender</th>\n",
       "      <th>device</th>\n",
       "      <th>plan_duration</th>\n",
       "      <th>subscribed_duration</th>\n",
       "      <th>start_month</th>\n",
       "      <th>clv</th>\n",
       "    </tr>\n",
       "  </thead>\n",
       "  <tbody>\n",
       "    <tr>\n",
       "      <th>100</th>\n",
       "      <td>101</td>\n",
       "      <td>Premium</td>\n",
       "      <td>11</td>\n",
       "      <td>United States</td>\n",
       "      <td>46</td>\n",
       "      <td>Female</td>\n",
       "      <td>Tablet</td>\n",
       "      <td>1 Month</td>\n",
       "      <td>250</td>\n",
       "      <td>10</td>\n",
       "      <td>2750</td>\n",
       "    </tr>\n",
       "    <tr>\n",
       "      <th>103</th>\n",
       "      <td>104</td>\n",
       "      <td>Premium</td>\n",
       "      <td>10</td>\n",
       "      <td>Australia</td>\n",
       "      <td>38</td>\n",
       "      <td>Male</td>\n",
       "      <td>Laptop</td>\n",
       "      <td>1 Month</td>\n",
       "      <td>323</td>\n",
       "      <td>8</td>\n",
       "      <td>3230</td>\n",
       "    </tr>\n",
       "    <tr>\n",
       "      <th>105</th>\n",
       "      <td>106</td>\n",
       "      <td>Premium</td>\n",
       "      <td>10</td>\n",
       "      <td>France</td>\n",
       "      <td>49</td>\n",
       "      <td>Female</td>\n",
       "      <td>Tablet</td>\n",
       "      <td>1 Month</td>\n",
       "      <td>463</td>\n",
       "      <td>3</td>\n",
       "      <td>4630</td>\n",
       "    </tr>\n",
       "    <tr>\n",
       "      <th>110</th>\n",
       "      <td>111</td>\n",
       "      <td>Premium</td>\n",
       "      <td>14</td>\n",
       "      <td>United States</td>\n",
       "      <td>40</td>\n",
       "      <td>Male</td>\n",
       "      <td>Tablet</td>\n",
       "      <td>1 Month</td>\n",
       "      <td>348</td>\n",
       "      <td>7</td>\n",
       "      <td>4872</td>\n",
       "    </tr>\n",
       "    <tr>\n",
       "      <th>113</th>\n",
       "      <td>114</td>\n",
       "      <td>Premium</td>\n",
       "      <td>10</td>\n",
       "      <td>Australia</td>\n",
       "      <td>48</td>\n",
       "      <td>Male</td>\n",
       "      <td>Smartphone</td>\n",
       "      <td>1 Month</td>\n",
       "      <td>219</td>\n",
       "      <td>11</td>\n",
       "      <td>2190</td>\n",
       "    </tr>\n",
       "    <tr>\n",
       "      <th>...</th>\n",
       "      <td>...</td>\n",
       "      <td>...</td>\n",
       "      <td>...</td>\n",
       "      <td>...</td>\n",
       "      <td>...</td>\n",
       "      <td>...</td>\n",
       "      <td>...</td>\n",
       "      <td>...</td>\n",
       "      <td>...</td>\n",
       "      <td>...</td>\n",
       "      <td>...</td>\n",
       "    </tr>\n",
       "    <tr>\n",
       "      <th>2484</th>\n",
       "      <td>2485</td>\n",
       "      <td>Premium</td>\n",
       "      <td>14</td>\n",
       "      <td>United States</td>\n",
       "      <td>47</td>\n",
       "      <td>Female</td>\n",
       "      <td>Tablet</td>\n",
       "      <td>1 Month</td>\n",
       "      <td>500</td>\n",
       "      <td>7</td>\n",
       "      <td>7000</td>\n",
       "    </tr>\n",
       "    <tr>\n",
       "      <th>2486</th>\n",
       "      <td>2487</td>\n",
       "      <td>Premium</td>\n",
       "      <td>11</td>\n",
       "      <td>Canada</td>\n",
       "      <td>35</td>\n",
       "      <td>Male</td>\n",
       "      <td>Smart TV</td>\n",
       "      <td>1 Month</td>\n",
       "      <td>500</td>\n",
       "      <td>7</td>\n",
       "      <td>5500</td>\n",
       "    </tr>\n",
       "    <tr>\n",
       "      <th>2490</th>\n",
       "      <td>2491</td>\n",
       "      <td>Premium</td>\n",
       "      <td>13</td>\n",
       "      <td>France</td>\n",
       "      <td>41</td>\n",
       "      <td>Female</td>\n",
       "      <td>Smartphone</td>\n",
       "      <td>1 Month</td>\n",
       "      <td>477</td>\n",
       "      <td>7</td>\n",
       "      <td>6201</td>\n",
       "    </tr>\n",
       "    <tr>\n",
       "      <th>2493</th>\n",
       "      <td>2494</td>\n",
       "      <td>Premium</td>\n",
       "      <td>12</td>\n",
       "      <td>Spain</td>\n",
       "      <td>36</td>\n",
       "      <td>Male</td>\n",
       "      <td>Smart TV</td>\n",
       "      <td>1 Month</td>\n",
       "      <td>359</td>\n",
       "      <td>7</td>\n",
       "      <td>4308</td>\n",
       "    </tr>\n",
       "    <tr>\n",
       "      <th>2495</th>\n",
       "      <td>2496</td>\n",
       "      <td>Premium</td>\n",
       "      <td>14</td>\n",
       "      <td>Spain</td>\n",
       "      <td>28</td>\n",
       "      <td>Female</td>\n",
       "      <td>Smart TV</td>\n",
       "      <td>1 Month</td>\n",
       "      <td>500</td>\n",
       "      <td>7</td>\n",
       "      <td>7000</td>\n",
       "    </tr>\n",
       "  </tbody>\n",
       "</table>\n",
       "<p>704 rows × 11 columns</p>\n",
       "</div>"
      ],
      "text/plain": [
       "      user_id subscription_type  monthly_revenue        country  age  gender   \n",
       "100       101           Premium               11  United States   46  Female  \\\n",
       "103       104           Premium               10      Australia   38    Male   \n",
       "105       106           Premium               10         France   49  Female   \n",
       "110       111           Premium               14  United States   40    Male   \n",
       "113       114           Premium               10      Australia   48    Male   \n",
       "...       ...               ...              ...            ...  ...     ...   \n",
       "2484     2485           Premium               14  United States   47  Female   \n",
       "2486     2487           Premium               11         Canada   35    Male   \n",
       "2490     2491           Premium               13         France   41  Female   \n",
       "2493     2494           Premium               12          Spain   36    Male   \n",
       "2495     2496           Premium               14          Spain   28  Female   \n",
       "\n",
       "          device plan_duration  subscribed_duration  start_month   clv  \n",
       "100       Tablet       1 Month                  250           10  2750  \n",
       "103       Laptop       1 Month                  323            8  3230  \n",
       "105       Tablet       1 Month                  463            3  4630  \n",
       "110       Tablet       1 Month                  348            7  4872  \n",
       "113   Smartphone       1 Month                  219           11  2190  \n",
       "...          ...           ...                  ...          ...   ...  \n",
       "2484      Tablet       1 Month                  500            7  7000  \n",
       "2486    Smart TV       1 Month                  500            7  5500  \n",
       "2490  Smartphone       1 Month                  477            7  6201  \n",
       "2493    Smart TV       1 Month                  359            7  4308  \n",
       "2495    Smart TV       1 Month                  500            7  7000  \n",
       "\n",
       "[704 rows x 11 columns]"
      ]
     },
     "execution_count": 58,
     "metadata": {},
     "output_type": "execute_result"
    }
   ],
   "source": [
    "premiun = d[(d['user_id'] > 100) & (d['subscription_type'] == \"Premium\")]\n",
    "premiun"
   ]
  },
  {
   "cell_type": "markdown",
   "metadata": {},
   "source": [
    "Displaying the first 10 premium users with user_id > 100"
   ]
  },
  {
   "cell_type": "code",
   "execution_count": 59,
   "metadata": {},
   "outputs": [
    {
     "name": "stderr",
     "output_type": "stream",
     "text": [
      "c:\\Users\\DELL\\anaconda3\\lib\\site-packages\\IPython\\core\\formatters.py:343: FutureWarning: Index.format is deprecated and will be removed in a future version. Convert using index.astype(str) or index.map(formatter) instead.\n",
      "  return method()\n"
     ]
    },
    {
     "data": {
      "text/html": [
       "<div>\n",
       "<style scoped>\n",
       "    .dataframe tbody tr th:only-of-type {\n",
       "        vertical-align: middle;\n",
       "    }\n",
       "\n",
       "    .dataframe tbody tr th {\n",
       "        vertical-align: top;\n",
       "    }\n",
       "\n",
       "    .dataframe thead th {\n",
       "        text-align: right;\n",
       "    }\n",
       "</style>\n",
       "<table border=\"1\" class=\"dataframe\">\n",
       "  <thead>\n",
       "    <tr style=\"text-align: right;\">\n",
       "      <th></th>\n",
       "      <th>user_id</th>\n",
       "      <th>subscription_type</th>\n",
       "      <th>monthly_revenue</th>\n",
       "      <th>country</th>\n",
       "      <th>age</th>\n",
       "      <th>gender</th>\n",
       "      <th>device</th>\n",
       "      <th>plan_duration</th>\n",
       "      <th>subscribed_duration</th>\n",
       "      <th>start_month</th>\n",
       "      <th>clv</th>\n",
       "    </tr>\n",
       "  </thead>\n",
       "  <tbody>\n",
       "    <tr>\n",
       "      <th>100</th>\n",
       "      <td>101</td>\n",
       "      <td>Premium</td>\n",
       "      <td>11</td>\n",
       "      <td>United States</td>\n",
       "      <td>46</td>\n",
       "      <td>Female</td>\n",
       "      <td>Tablet</td>\n",
       "      <td>1 Month</td>\n",
       "      <td>250</td>\n",
       "      <td>10</td>\n",
       "      <td>2750</td>\n",
       "    </tr>\n",
       "    <tr>\n",
       "      <th>103</th>\n",
       "      <td>104</td>\n",
       "      <td>Premium</td>\n",
       "      <td>10</td>\n",
       "      <td>Australia</td>\n",
       "      <td>38</td>\n",
       "      <td>Male</td>\n",
       "      <td>Laptop</td>\n",
       "      <td>1 Month</td>\n",
       "      <td>323</td>\n",
       "      <td>8</td>\n",
       "      <td>3230</td>\n",
       "    </tr>\n",
       "    <tr>\n",
       "      <th>105</th>\n",
       "      <td>106</td>\n",
       "      <td>Premium</td>\n",
       "      <td>10</td>\n",
       "      <td>France</td>\n",
       "      <td>49</td>\n",
       "      <td>Female</td>\n",
       "      <td>Tablet</td>\n",
       "      <td>1 Month</td>\n",
       "      <td>463</td>\n",
       "      <td>3</td>\n",
       "      <td>4630</td>\n",
       "    </tr>\n",
       "    <tr>\n",
       "      <th>110</th>\n",
       "      <td>111</td>\n",
       "      <td>Premium</td>\n",
       "      <td>14</td>\n",
       "      <td>United States</td>\n",
       "      <td>40</td>\n",
       "      <td>Male</td>\n",
       "      <td>Tablet</td>\n",
       "      <td>1 Month</td>\n",
       "      <td>348</td>\n",
       "      <td>7</td>\n",
       "      <td>4872</td>\n",
       "    </tr>\n",
       "    <tr>\n",
       "      <th>113</th>\n",
       "      <td>114</td>\n",
       "      <td>Premium</td>\n",
       "      <td>10</td>\n",
       "      <td>Australia</td>\n",
       "      <td>48</td>\n",
       "      <td>Male</td>\n",
       "      <td>Smartphone</td>\n",
       "      <td>1 Month</td>\n",
       "      <td>219</td>\n",
       "      <td>11</td>\n",
       "      <td>2190</td>\n",
       "    </tr>\n",
       "    <tr>\n",
       "      <th>115</th>\n",
       "      <td>116</td>\n",
       "      <td>Premium</td>\n",
       "      <td>14</td>\n",
       "      <td>France</td>\n",
       "      <td>45</td>\n",
       "      <td>Female</td>\n",
       "      <td>Smart TV</td>\n",
       "      <td>1 Month</td>\n",
       "      <td>400</td>\n",
       "      <td>5</td>\n",
       "      <td>5600</td>\n",
       "    </tr>\n",
       "    <tr>\n",
       "      <th>120</th>\n",
       "      <td>121</td>\n",
       "      <td>Premium</td>\n",
       "      <td>15</td>\n",
       "      <td>United States</td>\n",
       "      <td>27</td>\n",
       "      <td>Male</td>\n",
       "      <td>Smart TV</td>\n",
       "      <td>1 Month</td>\n",
       "      <td>471</td>\n",
       "      <td>3</td>\n",
       "      <td>7065</td>\n",
       "    </tr>\n",
       "    <tr>\n",
       "      <th>123</th>\n",
       "      <td>124</td>\n",
       "      <td>Premium</td>\n",
       "      <td>15</td>\n",
       "      <td>Australia</td>\n",
       "      <td>43</td>\n",
       "      <td>Male</td>\n",
       "      <td>Laptop</td>\n",
       "      <td>1 Month</td>\n",
       "      <td>410</td>\n",
       "      <td>5</td>\n",
       "      <td>6150</td>\n",
       "    </tr>\n",
       "    <tr>\n",
       "      <th>125</th>\n",
       "      <td>126</td>\n",
       "      <td>Premium</td>\n",
       "      <td>13</td>\n",
       "      <td>France</td>\n",
       "      <td>45</td>\n",
       "      <td>Male</td>\n",
       "      <td>Laptop</td>\n",
       "      <td>1 Month</td>\n",
       "      <td>275</td>\n",
       "      <td>9</td>\n",
       "      <td>3575</td>\n",
       "    </tr>\n",
       "    <tr>\n",
       "      <th>130</th>\n",
       "      <td>131</td>\n",
       "      <td>Premium</td>\n",
       "      <td>15</td>\n",
       "      <td>United States</td>\n",
       "      <td>47</td>\n",
       "      <td>Male</td>\n",
       "      <td>Laptop</td>\n",
       "      <td>1 Month</td>\n",
       "      <td>378</td>\n",
       "      <td>6</td>\n",
       "      <td>5670</td>\n",
       "    </tr>\n",
       "  </tbody>\n",
       "</table>\n",
       "</div>"
      ],
      "text/plain": [
       "     user_id subscription_type  monthly_revenue        country  age  gender   \n",
       "100      101           Premium               11  United States   46  Female  \\\n",
       "103      104           Premium               10      Australia   38    Male   \n",
       "105      106           Premium               10         France   49  Female   \n",
       "110      111           Premium               14  United States   40    Male   \n",
       "113      114           Premium               10      Australia   48    Male   \n",
       "115      116           Premium               14         France   45  Female   \n",
       "120      121           Premium               15  United States   27    Male   \n",
       "123      124           Premium               15      Australia   43    Male   \n",
       "125      126           Premium               13         France   45    Male   \n",
       "130      131           Premium               15  United States   47    Male   \n",
       "\n",
       "         device plan_duration  subscribed_duration  start_month   clv  \n",
       "100      Tablet       1 Month                  250           10  2750  \n",
       "103      Laptop       1 Month                  323            8  3230  \n",
       "105      Tablet       1 Month                  463            3  4630  \n",
       "110      Tablet       1 Month                  348            7  4872  \n",
       "113  Smartphone       1 Month                  219           11  2190  \n",
       "115    Smart TV       1 Month                  400            5  5600  \n",
       "120    Smart TV       1 Month                  471            3  7065  \n",
       "123      Laptop       1 Month                  410            5  6150  \n",
       "125      Laptop       1 Month                  275            9  3575  \n",
       "130      Laptop       1 Month                  378            6  5670  "
      ]
     },
     "execution_count": 59,
     "metadata": {},
     "output_type": "execute_result"
    }
   ],
   "source": [
    "d.query('user_id > 100 and subscription_type == \"Premium\"').head(10)"
   ]
  },
  {
   "cell_type": "markdown",
   "metadata": {},
   "source": [
    "Drop the 'user_id' colums "
   ]
  },
  {
   "cell_type": "code",
   "execution_count": 66,
   "metadata": {},
   "outputs": [],
   "source": [
    "d.drop(columns=['user_id'], inplace=True)"
   ]
  },
  {
   "cell_type": "markdown",
   "metadata": {},
   "source": [
    "Fill missing numeric values with colum mean "
   ]
  },
  {
   "cell_type": "code",
   "execution_count": 75,
   "metadata": {},
   "outputs": [
    {
     "name": "stderr",
     "output_type": "stream",
     "text": [
      "c:\\Users\\DELL\\anaconda3\\lib\\site-packages\\IPython\\core\\formatters.py:343: FutureWarning: Index.format is deprecated and will be removed in a future version. Convert using index.astype(str) or index.map(formatter) instead.\n",
      "  return method()\n",
      "c:\\Users\\DELL\\anaconda3\\lib\\site-packages\\IPython\\core\\formatters.py:343: FutureWarning: RangeIndex.format is deprecated and will be removed in a future version. Convert using index.astype(str) or index.map(formatter) instead.\n",
      "  return method()\n"
     ]
    },
    {
     "data": {
      "text/html": [
       "<div>\n",
       "<style scoped>\n",
       "    .dataframe tbody tr th:only-of-type {\n",
       "        vertical-align: middle;\n",
       "    }\n",
       "\n",
       "    .dataframe tbody tr th {\n",
       "        vertical-align: top;\n",
       "    }\n",
       "\n",
       "    .dataframe thead th {\n",
       "        text-align: right;\n",
       "    }\n",
       "</style>\n",
       "<table border=\"1\" class=\"dataframe\">\n",
       "  <thead>\n",
       "    <tr style=\"text-align: right;\">\n",
       "      <th></th>\n",
       "      <th>subscription_type</th>\n",
       "      <th>monthly_revenue</th>\n",
       "      <th>country</th>\n",
       "      <th>age</th>\n",
       "      <th>gender</th>\n",
       "      <th>device</th>\n",
       "      <th>plan_duration</th>\n",
       "      <th>subscribed_duration</th>\n",
       "      <th>start_month</th>\n",
       "      <th>clv</th>\n",
       "    </tr>\n",
       "  </thead>\n",
       "  <tbody>\n",
       "    <tr>\n",
       "      <th>0</th>\n",
       "      <td>0</td>\n",
       "      <td>10</td>\n",
       "      <td>United States</td>\n",
       "      <td>28</td>\n",
       "      <td>-1</td>\n",
       "      <td>Smartphone</td>\n",
       "      <td>1 Month</td>\n",
       "      <td>629</td>\n",
       "      <td>1</td>\n",
       "      <td>6290</td>\n",
       "    </tr>\n",
       "    <tr>\n",
       "      <th>1</th>\n",
       "      <td>2</td>\n",
       "      <td>15</td>\n",
       "      <td>Canada</td>\n",
       "      <td>35</td>\n",
       "      <td>-1</td>\n",
       "      <td>Tablet</td>\n",
       "      <td>1 Month</td>\n",
       "      <td>774</td>\n",
       "      <td>5</td>\n",
       "      <td>11610</td>\n",
       "    </tr>\n",
       "    <tr>\n",
       "      <th>2</th>\n",
       "      <td>1</td>\n",
       "      <td>12</td>\n",
       "      <td>United Kingdom</td>\n",
       "      <td>42</td>\n",
       "      <td>-1</td>\n",
       "      <td>Smart TV</td>\n",
       "      <td>1 Month</td>\n",
       "      <td>119</td>\n",
       "      <td>2</td>\n",
       "      <td>1428</td>\n",
       "    </tr>\n",
       "    <tr>\n",
       "      <th>3</th>\n",
       "      <td>1</td>\n",
       "      <td>12</td>\n",
       "      <td>Australia</td>\n",
       "      <td>51</td>\n",
       "      <td>-1</td>\n",
       "      <td>Laptop</td>\n",
       "      <td>1 Month</td>\n",
       "      <td>262</td>\n",
       "      <td>10</td>\n",
       "      <td>3144</td>\n",
       "    </tr>\n",
       "    <tr>\n",
       "      <th>4</th>\n",
       "      <td>0</td>\n",
       "      <td>10</td>\n",
       "      <td>Germany</td>\n",
       "      <td>33</td>\n",
       "      <td>-1</td>\n",
       "      <td>Smartphone</td>\n",
       "      <td>1 Month</td>\n",
       "      <td>174</td>\n",
       "      <td>1</td>\n",
       "      <td>1740</td>\n",
       "    </tr>\n",
       "  </tbody>\n",
       "</table>\n",
       "</div>"
      ],
      "text/plain": [
       "   subscription_type  monthly_revenue         country  age  gender   \n",
       "0                  0               10   United States   28      -1  \\\n",
       "1                  2               15          Canada   35      -1   \n",
       "2                  1               12  United Kingdom   42      -1   \n",
       "3                  1               12       Australia   51      -1   \n",
       "4                  0               10         Germany   33      -1   \n",
       "\n",
       "       device plan_duration  subscribed_duration  start_month    clv  \n",
       "0  Smartphone       1 Month                  629            1   6290  \n",
       "1      Tablet       1 Month                  774            5  11610  \n",
       "2    Smart TV       1 Month                  119            2   1428  \n",
       "3      Laptop       1 Month                  262           10   3144  \n",
       "4  Smartphone       1 Month                  174            1   1740  "
      ]
     },
     "execution_count": 75,
     "metadata": {},
     "output_type": "execute_result"
    }
   ],
   "source": [
    "d['age'] = d['age'].fillna(d['age'].mean())\n",
    "d['monthly_revenue'] = d['monthly_revenue'].fillna(d['monthly_revenue'].mean())\n",
    "d['subscribed_duration'] = d['subscribed_duration'].fillna(d['subscribed_duration'].mean())\n",
    "d['clv'] = d['clv'].fillna(d['clv'].mean())\n",
    "d['subscription_type'] = d['subscription_type'].map({'Basic': 0, 'Standard': 1, 'Premium': 2}).astype('int64')\n",
    "d.head()"
   ]
  },
  {
   "cell_type": "code",
   "execution_count": 73,
   "metadata": {},
   "outputs": [
    {
     "data": {
      "text/plain": [
       "dtype('int64')"
      ]
     },
     "execution_count": 73,
     "metadata": {},
     "output_type": "execute_result"
    }
   ],
   "source": [
    "np.dtype(d['gender'])"
   ]
  },
  {
   "cell_type": "markdown",
   "metadata": {},
   "source": [
    "Calculating quartiles for the 'age' column"
   ]
  },
  {
   "cell_type": "code",
   "execution_count": 60,
   "metadata": {},
   "outputs": [
    {
     "name": "stdout",
     "output_type": "stream",
     "text": [
      "1er quartile : 32.0\n",
      "2è quartile : 39.0\n",
      "3è quartile : 45.0\n"
     ]
    }
   ],
   "source": [
    "print('1er quartile :', np.percentile(d['age'], 25))\n",
    "\n",
    "print('2è quartile :', np.percentile(d['age'], 50))\n",
    "\n",
    "print('3è quartile :', np.percentile(d['age'], 75))"
   ]
  },
  {
   "cell_type": "markdown",
   "metadata": {},
   "source": [
    "Calculating the interquartile range (IQR) for the 'age' column"
   ]
  },
  {
   "cell_type": "code",
   "execution_count": 61,
   "metadata": {},
   "outputs": [
    {
     "data": {
      "text/plain": [
       "np.float64(13.0)"
      ]
     },
     "execution_count": 61,
     "metadata": {},
     "output_type": "execute_result"
    }
   ],
   "source": [
    "stats.iqr(d['age'])"
   ]
  },
  {
   "cell_type": "markdown",
   "metadata": {},
   "source": [
    "Plotting the distribution of monthly revenue"
   ]
  },
  {
   "cell_type": "code",
   "execution_count": 62,
   "metadata": {},
   "outputs": [
    {
     "name": "stdout",
     "output_type": "stream",
     "text": [
      "Unexpected exception formatting exception. Falling back to standard exception\n"
     ]
    },
    {
     "name": "stderr",
     "output_type": "stream",
     "text": [
      "Traceback (most recent call last):\n",
      "  File \"c:\\Users\\DELL\\anaconda3\\lib\\site-packages\\IPython\\core\\interactiveshell.py\", line 3369, in run_code\n",
      "    exec(code_obj, self.user_global_ns, self.user_ns)\n",
      "  File \"C:\\Users\\DELL\\AppData\\Local\\Temp\\ipykernel_25968\\2598735677.py\", line 1, in <cell line: 1>\n",
      "    sns.histplot(\n",
      "  File \"c:\\Users\\DELL\\anaconda3\\lib\\site-packages\\seaborn\\distributions.py\", line 1387, in histplot\n",
      "    xy_pairs = np.column_stack([\n",
      "  File \"c:\\Users\\DELL\\anaconda3\\lib\\site-packages\\matplotlib\\pyplot.py\", line 2742, in gca\n",
      "    textprops=None, center=(0, 0), frame=False,\n",
      "  File \"c:\\Users\\DELL\\anaconda3\\lib\\site-packages\\matplotlib\\pyplot.py\", line 1093, in gcf\n",
      "  File \"c:\\Users\\DELL\\anaconda3\\lib\\site-packages\\matplotlib\\pyplot.py\", line 1027, in figure\n",
      "    arguments if another projection is used, see the actual axes\n",
      "  File \"c:\\Users\\DELL\\anaconda3\\lib\\site-packages\\matplotlib\\pyplot.py\", line 549, in new_figure_manager\n",
      "    else:\n",
      "  File \"c:\\Users\\DELL\\anaconda3\\lib\\site-packages\\matplotlib\\pyplot.py\", line 526, in _warn_if_gui_out_of_main_thread\n",
      "    \"\"\"\n",
      "  File \"c:\\Users\\DELL\\anaconda3\\lib\\site-packages\\matplotlib\\pyplot.py\", line 358, in _get_backend_mod\n",
      "    if you keep a reference to the figure and use `.Figure.savefig`.\n",
      "  File \"c:\\Users\\DELL\\anaconda3\\lib\\site-packages\\matplotlib\\pyplot.py\", line 415, in switch_backend\n",
      "    def __enter__(self):\n",
      "  File \"c:\\Users\\DELL\\anaconda3\\lib\\site-packages\\matplotlib\\backends\\registry.py\", line 323, in load_backend_module\n",
      "    return importlib.import_module(module_name)\n",
      "  File \"c:\\Users\\DELL\\anaconda3\\lib\\importlib\\__init__.py\", line 127, in import_module\n",
      "    return _bootstrap._gcd_import(name[level:], package, level)\n",
      "  File \"<frozen importlib._bootstrap>\", line 1030, in _gcd_import\n",
      "  File \"<frozen importlib._bootstrap>\", line 1007, in _find_and_load\n",
      "  File \"<frozen importlib._bootstrap>\", line 986, in _find_and_load_unlocked\n",
      "  File \"<frozen importlib._bootstrap>\", line 680, in _load_unlocked\n",
      "  File \"<frozen importlib._bootstrap_external>\", line 850, in exec_module\n",
      "  File \"<frozen importlib._bootstrap>\", line 228, in _call_with_frames_removed\n",
      "  File \"c:\\Users\\DELL\\anaconda3\\lib\\site-packages\\matplotlib_inline\\backend_inline.py\", line 7, in <module>\n",
      "    from matplotlib.backends.backend_agg import (  # noqa\n",
      "  File \"c:\\Users\\DELL\\anaconda3\\lib\\site-packages\\matplotlib\\backends\\backend_agg.py\", line 37, in <module>\n",
      "    from matplotlib.backend_bases import (\n",
      "ImportError: cannot import name '_check_savefig_extra_args' from 'matplotlib.backend_bases' (c:\\Users\\DELL\\anaconda3\\lib\\site-packages\\matplotlib\\backend_bases.py)\n",
      "\n",
      "During handling of the above exception, another exception occurred:\n",
      "\n",
      "Traceback (most recent call last):\n",
      "  File \"c:\\Users\\DELL\\anaconda3\\lib\\site-packages\\IPython\\core\\interactiveshell.py\", line 1982, in showtraceback\n",
      "    stb = self.InteractiveTB.structured_traceback(\n",
      "  File \"c:\\Users\\DELL\\anaconda3\\lib\\site-packages\\IPython\\core\\ultratb.py\", line 1118, in structured_traceback\n",
      "    return FormattedTB.structured_traceback(\n",
      "  File \"c:\\Users\\DELL\\anaconda3\\lib\\site-packages\\IPython\\core\\ultratb.py\", line 1012, in structured_traceback\n",
      "    return VerboseTB.structured_traceback(\n",
      "  File \"c:\\Users\\DELL\\anaconda3\\lib\\site-packages\\IPython\\core\\ultratb.py\", line 865, in structured_traceback\n",
      "    formatted_exception = self.format_exception_as_a_whole(etype, evalue, etb, number_of_lines_of_context,\n",
      "  File \"c:\\Users\\DELL\\anaconda3\\lib\\site-packages\\IPython\\core\\ultratb.py\", line 818, in format_exception_as_a_whole\n",
      "    frames.append(self.format_record(r))\n",
      "  File \"c:\\Users\\DELL\\anaconda3\\lib\\site-packages\\IPython\\core\\ultratb.py\", line 736, in format_record\n",
      "    result += ''.join(_format_traceback_lines(frame_info.lines, Colors, self.has_colors, lvals))\n",
      "  File \"c:\\Users\\DELL\\anaconda3\\lib\\site-packages\\stack_data\\utils.py\", line 145, in cached_property_wrapper\n",
      "    value = obj.__dict__[self.func.__name__] = self.func(obj)\n",
      "  File \"c:\\Users\\DELL\\anaconda3\\lib\\site-packages\\stack_data\\core.py\", line 698, in lines\n",
      "    pieces = self.included_pieces\n",
      "  File \"c:\\Users\\DELL\\anaconda3\\lib\\site-packages\\stack_data\\utils.py\", line 145, in cached_property_wrapper\n",
      "    value = obj.__dict__[self.func.__name__] = self.func(obj)\n",
      "  File \"c:\\Users\\DELL\\anaconda3\\lib\\site-packages\\stack_data\\core.py\", line 649, in included_pieces\n",
      "    pos = scope_pieces.index(self.executing_piece)\n",
      "  File \"c:\\Users\\DELL\\anaconda3\\lib\\site-packages\\stack_data\\utils.py\", line 145, in cached_property_wrapper\n",
      "    value = obj.__dict__[self.func.__name__] = self.func(obj)\n",
      "  File \"c:\\Users\\DELL\\anaconda3\\lib\\site-packages\\stack_data\\core.py\", line 628, in executing_piece\n",
      "    return only(\n",
      "  File \"c:\\Users\\DELL\\anaconda3\\lib\\site-packages\\executing\\executing.py\", line 164, in only\n",
      "    raise NotOneValueFound('Expected one value, found 0')\n",
      "executing.executing.NotOneValueFound: Expected one value, found 0\n"
     ]
    }
   ],
   "source": [
    "sns.histplot(\n",
    "    d[\"monthly_revenue\"],\n",
    "    kde=False,\n",
    "    bins=30\n",
    ")\n",
    "plt.title('Distribution de revenu mensuel')"
   ]
  },
  {
   "cell_type": "markdown",
   "metadata": {},
   "source": [
    "Plotting the distribution of devices"
   ]
  },
  {
   "cell_type": "code",
   "execution_count": null,
   "metadata": {},
   "outputs": [
    {
     "data": {
      "image/png": "[encoded data removed]",
      "text/plain": [
       "<Figure size 432x288 with 1 Axes>"
      ]
     },
     "metadata": {},
     "output_type": "display_data"
    }
   ],
   "source": [
    "sns.histplot(\n",
    "    d[\"device\"],\n",
    "    kde=True,\n",
    "    bins=30\n",
    ")\n",
    "plt.title('Distribution des appareils')\n",
    "plt.xlabel(\"device\")\n",
    "plt.ylabel(\"nombre d'utilisateur\")\n",
    "plt.show()"
   ]
  },
  {
   "cell_type": "markdown",
   "metadata": {},
   "source": [
    "Plotting the distribution of subscribers by country"
   ]
  },
  {
   "cell_type": "code",
   "execution_count": null,
   "metadata": {},
   "outputs": [
    {
     "data": {
      "image/png": "[encoded data removed]",
      "text/plain": [
       "<Figure size 432x288 with 1 Axes>"
      ]
     },
     "metadata": {},
     "output_type": "display_data"
    }
   ],
   "source": [
    "sns.histplot(\n",
    "    d[\"country\"],\n",
    "    kde=False,\n",
    "    bins=30\n",
    ")\n",
    "plt.title(\"Répartition des abonnés par pays\")\n",
    "plt.xlabel(\"Pays\")\n",
    "plt.ylabel(\"Nombre d'abonnés\")\n",
    "plt.show()"
   ]
  },
  {
   "cell_type": "markdown",
   "metadata": {},
   "source": [
    " Creating a count plot for subscribers by country"
   ]
  },
  {
   "cell_type": "code",
   "execution_count": null,
   "metadata": {},
   "outputs": [
    {
     "data": {
      "image/png": "[encoded data removed]",
      "text/plain": [
       "<Figure size 432x288 with 1 Axes>"
      ]
     },
     "metadata": {},
     "output_type": "display_data"
    }
   ],
   "source": [
    "sns.countplot(x='country', data=d, order=d['country'].value_counts().index)\n",
    "plt.xticks(rotation=45)\n",
    "plt.xlabel(\"Pays\")\n",
    "plt.ylabel(\"Nombre d'abonnés\")\n",
    "plt.title(\"Répartition des abonnés par pays\")\n",
    "plt.show()"
   ]
  },
  {
   "cell_type": "markdown",
   "metadata": {},
   "source": [
    "Plotting a pie chart for device distribution"
   ]
  },
  {
   "cell_type": "code",
   "execution_count": null,
   "metadata": {},
   "outputs": [
    {
     "data": {
      "text/plain": [
       "<AxesSubplot:title={'center':'distrubution des appareils'}, ylabel='device'>"
      ]
     },
     "execution_count": 92,
     "metadata": {},
     "output_type": "execute_result"
    },
    {
     "data": {
      "image/png": "[encoded data removed]",
      "text/plain": [
       "<Figure size 432x288 with 1 Axes>"
      ]
     },
     "metadata": {},
     "output_type": "display_data"
    }
   ],
   "source": [
    "d['device'].value_counts().plot(\n",
    "    kind = 'pie', \n",
    "    title = 'distrubution des appareils')"
   ]
  },
  {
   "cell_type": "markdown",
   "metadata": {},
   "source": [
    "Plotting the distribution of subscription duration"
   ]
  },
  {
   "cell_type": "code",
   "execution_count": null,
   "metadata": {},
   "outputs": [
    {
     "name": "stderr",
     "output_type": "stream",
     "text": [
      "c:\\Users\\DELL\\anaconda3\\lib\\site-packages\\seaborn\\distributions.py:2619: FutureWarning: `distplot` is a deprecated function and will be removed in a future version. Please adapt your code to use either `displot` (a figure-level function with similar flexibility) or `histplot` (an axes-level function for histograms).\n",
      "  warnings.warn(msg, FutureWarning)\n"
     ]
    },
    {
     "data": {
      "image/png": "[encoded data removed]",
      "text/plain": [
       "<Figure size 432x288 with 1 Axes>"
      ]
     },
     "metadata": {},
     "output_type": "display_data"
    }
   ],
   "source": [
    "sns.distplot(\n",
    "    d[\"subscribed_duration\"],\n",
    "    kde=False,\n",
    "    bins=30\n",
    ")\n",
    "plt.title(\"distrubution de la durée dabonnement\")\n",
    "plt.xlabel(\"subscribed_duration\")\n",
    "plt.ylabel(\"nombre d'utilisateur\")\n",
    "plt.show()"
   ]
  },
  {
   "cell_type": "markdown",
   "metadata": {},
   "source": [
    "Plotting the correlation between monthly revenue and CLV"
   ]
  },
  {
   "cell_type": "code",
   "execution_count": null,
   "metadata": {},
   "outputs": [
    {
     "name": "stdout",
     "output_type": "stream",
     "text": [
      "Unexpected exception formatting exception. Falling back to standard exception\n"
     ]
    },
    {
     "name": "stderr",
     "output_type": "stream",
     "text": [
      "Traceback (most recent call last):\n",
      "  File \"c:\\Users\\DELL\\anaconda3\\lib\\site-packages\\IPython\\core\\interactiveshell.py\", line 3369, in run_code\n",
      "    exec(code_obj, self.user_global_ns, self.user_ns)\n",
      "  File \"C:\\Users\\DELL\\AppData\\Local\\Temp\\ipykernel_25968\\2234484060.py\", line 1, in <cell line: 1>\n",
      "    sns.regplot(x='monthly_revenue', y='clv', data=d,fit_reg=True)\n",
      "  File \"c:\\Users\\DELL\\anaconda3\\lib\\site-packages\\seaborn\\regression.py\", line 770, in regplot\n",
      "    ...                markers=[\"o\", \"x\"])\n",
      "  File \"c:\\Users\\DELL\\anaconda3\\lib\\site-packages\\matplotlib\\pyplot.py\", line 2742, in gca\n",
      "    textprops=None, center=(0, 0), frame=False,\n",
      "  File \"c:\\Users\\DELL\\anaconda3\\lib\\site-packages\\matplotlib\\pyplot.py\", line 1093, in gcf\n",
      "  File \"c:\\Users\\DELL\\anaconda3\\lib\\site-packages\\matplotlib\\pyplot.py\", line 1027, in figure\n",
      "    arguments if another projection is used, see the actual axes\n",
      "  File \"c:\\Users\\DELL\\anaconda3\\lib\\site-packages\\matplotlib\\pyplot.py\", line 549, in new_figure_manager\n",
      "    else:\n",
      "  File \"c:\\Users\\DELL\\anaconda3\\lib\\site-packages\\matplotlib\\pyplot.py\", line 526, in _warn_if_gui_out_of_main_thread\n",
      "    \"\"\"\n",
      "  File \"c:\\Users\\DELL\\anaconda3\\lib\\site-packages\\matplotlib\\pyplot.py\", line 358, in _get_backend_mod\n",
      "    if you keep a reference to the figure and use `.Figure.savefig`.\n",
      "  File \"c:\\Users\\DELL\\anaconda3\\lib\\site-packages\\matplotlib\\pyplot.py\", line 415, in switch_backend\n",
      "    def __enter__(self):\n",
      "  File \"c:\\Users\\DELL\\anaconda3\\lib\\site-packages\\matplotlib\\backends\\registry.py\", line 323, in load_backend_module\n",
      "    return importlib.import_module(module_name)\n",
      "  File \"c:\\Users\\DELL\\anaconda3\\lib\\importlib\\__init__.py\", line 127, in import_module\n",
      "    return _bootstrap._gcd_import(name[level:], package, level)\n",
      "  File \"<frozen importlib._bootstrap>\", line 1030, in _gcd_import\n",
      "  File \"<frozen importlib._bootstrap>\", line 1007, in _find_and_load\n",
      "  File \"<frozen importlib._bootstrap>\", line 986, in _find_and_load_unlocked\n",
      "  File \"<frozen importlib._bootstrap>\", line 680, in _load_unlocked\n",
      "  File \"<frozen importlib._bootstrap_external>\", line 850, in exec_module\n",
      "  File \"<frozen importlib._bootstrap>\", line 228, in _call_with_frames_removed\n",
      "  File \"c:\\Users\\DELL\\anaconda3\\lib\\site-packages\\matplotlib_inline\\backend_inline.py\", line 7, in <module>\n",
      "    from matplotlib.backends.backend_agg import (  # noqa\n",
      "  File \"c:\\Users\\DELL\\anaconda3\\lib\\site-packages\\matplotlib\\backends\\backend_agg.py\", line 37, in <module>\n",
      "    from matplotlib.backend_bases import (\n",
      "ImportError: cannot import name '_check_savefig_extra_args' from 'matplotlib.backend_bases' (c:\\Users\\DELL\\anaconda3\\lib\\site-packages\\matplotlib\\backend_bases.py)\n",
      "\n",
      "During handling of the above exception, another exception occurred:\n",
      "\n",
      "Traceback (most recent call last):\n",
      "  File \"c:\\Users\\DELL\\anaconda3\\lib\\site-packages\\IPython\\core\\interactiveshell.py\", line 1982, in showtraceback\n",
      "    stb = self.InteractiveTB.structured_traceback(\n",
      "  File \"c:\\Users\\DELL\\anaconda3\\lib\\site-packages\\IPython\\core\\ultratb.py\", line 1118, in structured_traceback\n",
      "    return FormattedTB.structured_traceback(\n",
      "  File \"c:\\Users\\DELL\\anaconda3\\lib\\site-packages\\IPython\\core\\ultratb.py\", line 1012, in structured_traceback\n",
      "    return VerboseTB.structured_traceback(\n",
      "  File \"c:\\Users\\DELL\\anaconda3\\lib\\site-packages\\IPython\\core\\ultratb.py\", line 865, in structured_traceback\n",
      "    formatted_exception = self.format_exception_as_a_whole(etype, evalue, etb, number_of_lines_of_context,\n",
      "  File \"c:\\Users\\DELL\\anaconda3\\lib\\site-packages\\IPython\\core\\ultratb.py\", line 818, in format_exception_as_a_whole\n",
      "    frames.append(self.format_record(r))\n",
      "  File \"c:\\Users\\DELL\\anaconda3\\lib\\site-packages\\IPython\\core\\ultratb.py\", line 736, in format_record\n",
      "    result += ''.join(_format_traceback_lines(frame_info.lines, Colors, self.has_colors, lvals))\n",
      "  File \"c:\\Users\\DELL\\anaconda3\\lib\\site-packages\\stack_data\\utils.py\", line 145, in cached_property_wrapper\n",
      "    value = obj.__dict__[self.func.__name__] = self.func(obj)\n",
      "  File \"c:\\Users\\DELL\\anaconda3\\lib\\site-packages\\stack_data\\core.py\", line 698, in lines\n",
      "    pieces = self.included_pieces\n",
      "  File \"c:\\Users\\DELL\\anaconda3\\lib\\site-packages\\stack_data\\utils.py\", line 145, in cached_property_wrapper\n",
      "    value = obj.__dict__[self.func.__name__] = self.func(obj)\n",
      "  File \"c:\\Users\\DELL\\anaconda3\\lib\\site-packages\\stack_data\\core.py\", line 649, in included_pieces\n",
      "    pos = scope_pieces.index(self.executing_piece)\n",
      "  File \"c:\\Users\\DELL\\anaconda3\\lib\\site-packages\\stack_data\\utils.py\", line 145, in cached_property_wrapper\n",
      "    value = obj.__dict__[self.func.__name__] = self.func(obj)\n",
      "  File \"c:\\Users\\DELL\\anaconda3\\lib\\site-packages\\stack_data\\core.py\", line 628, in executing_piece\n",
      "    return only(\n",
      "  File \"c:\\Users\\DELL\\anaconda3\\lib\\site-packages\\executing\\executing.py\", line 164, in only\n",
      "    raise NotOneValueFound('Expected one value, found 0')\n",
      "executing.executing.NotOneValueFound: Expected one value, found 0\n"
     ]
    }
   ],
   "source": [
    "\n",
    "sns.regplot(x='monthly_revenue', y='clv', data=d,fit_reg=True)\n",
    "plt.xlabel(\"Revenu Mensuel \")\n",
    "plt.ylabel(\"CLV\")\n",
    "plt.title(\"Corrélation entre le revenu mensuel et la valeur à vie du client\")\n",
    "plt.show()\n"
   ]
  },
  {
   "cell_type": "markdown",
   "metadata": {},
   "source": [
    "A positive correlation exists between monthly_revenue and clv. This indicates that users with higher lifetime value (CLV) tend to spend more monthly."
   ]
  },
  {
   "cell_type": "markdown",
   "metadata": {},
   "source": []
  },
  {
   "cell_type": "markdown",
   "metadata": {},
   "source": [
    "Plotting the distribution of CLV"
   ]
  },
  {
   "cell_type": "code",
   "execution_count": null,
   "metadata": {},
   "outputs": [
    {
     "data": {
      "image/png": "[encoded data removed]",
      "text/plain": [
       "<Figure size 432x288 with 1 Axes>"
      ]
     },
     "metadata": {},
     "output_type": "display_data"
    }
   ],
   "source": [
    "sns.histplot(d['clv'] , kde=True)\n",
    "plt.title(\"Distribution de la valeur à vie du client\")\n",
    "plt.xlabel(\"CLV\")\n",
    "plt.ylabel(\"Nombre d'utilisateur\")\n",
    "plt.show()"
   ]
  },
  {
   "cell_type": "markdown",
   "metadata": {},
   "source": [
    "Creating a boxplot for monthly revenue by subscription type"
   ]
  },
  {
   "cell_type": "code",
   "execution_count": null,
   "metadata": {},
   "outputs": [
    {
     "data": {
      "image/png": "[encoded data removed]",
      "text/plain": [
       "<Figure size 432x288 with 1 Axes>"
      ]
     },
     "metadata": {},
     "output_type": "display_data"
    }
   ],
   "source": [
    "sns.boxplot(x='subscription_type', y='monthly_revenue', data=d)\n",
    "plt.xlabel(\"Type d'abonnement\")\n",
    "plt.ylabel(\"Revenu Mensuel\")\n",
    "plt.title(\"Revenu mensuel par type d'abonnement\")\n",
    "plt.show()"
   ]
  },
  {
   "cell_type": "markdown",
   "metadata": {},
   "source": [
    "impact de l'age sur la durée d'abonnement"
   ]
  },
  {
   "cell_type": "code",
   "execution_count": null,
   "metadata": {},
   "outputs": [
    {
     "data": {
      "image/png": "[encoded data removed]",
      "text/plain": [
       "<Figure size 432x288 with 1 Axes>"
      ]
     },
     "metadata": {},
     "output_type": "display_data"
    }
   ],
   "source": [
    "sns.scatterplot(x='age', y='subscribed_duration', data=d)\n",
    "plt.xlabel(\"Âge de l'utilisateur\")\n",
    "plt.ylabel(\"Durée d'abonnement (mois)\")\n",
    "plt.title(\"Corrélation entre l'âge et la fidélité\")\n",
    "plt.show()"
   ]
  },
  {
   "cell_type": "markdown",
   "metadata": {},
   "source": [
    "A positive correlation is observed between age and subscribed_duration. Older users tend to have longer subscription durations,"
   ]
  },
  {
   "cell_type": "markdown",
   "metadata": {},
   "source": []
  },
  {
   "cell_type": "markdown",
   "metadata": {},
   "source": [
    "Comparing monthly revenue by gender"
   ]
  },
  {
   "cell_type": "code",
   "execution_count": null,
   "metadata": {},
   "outputs": [
    {
     "data": {
      "image/png": "[encoded data removed]",
      "text/plain": [
       "<Figure size 432x288 with 1 Axes>"
      ]
     },
     "metadata": {},
     "output_type": "display_data"
    }
   ],
   "source": [
    "sns.boxplot(x='gender', y='monthly_revenue', data=d)\n",
    "plt.xlabel(\"Genre\")\n",
    "plt.ylabel(\"Revenu mensuel\")\n",
    "plt.title(\"Comparaison du revenu mensuel selon le genre\")\n",
    "plt.show()"
   ]
  },
  {
   "cell_type": "markdown",
   "metadata": {},
   "source": [
    "Plotting the gender distribution as a pie char"
   ]
  },
  {
   "cell_type": "code",
   "execution_count": null,
   "metadata": {},
   "outputs": [
    {
     "data": {
      "image/png": "[encoded data removed]",
      "text/plain": [
       "<Figure size 432x288 with 1 Axes>"
      ]
     },
     "metadata": {},
     "output_type": "display_data"
    }
   ],
   "source": [
    "d[\"gender\"].value_counts().plot(\n",
    "    kind=\"pie\",\n",
    "    title=\"Répartition des abonnés par genre\"\n",
    ")\n",
    "plt.ylabel('')  \n",
    "plt.show()"
   ]
  },
  {
   "cell_type": "markdown",
   "metadata": {},
   "source": [
    "Comparing subscription duration by device"
   ]
  },
  {
   "cell_type": "code",
   "execution_count": null,
   "metadata": {},
   "outputs": [
    {
     "data": {
      "image/png": "[encoded data removed]",
      "text/plain": [
       "<Figure size 432x288 with 1 Axes>"
      ]
     },
     "metadata": {},
     "output_type": "display_data"
    }
   ],
   "source": [
    "sns.boxplot(x='device', y='subscribed_duration', data=d)\n",
    "plt.xlabel(\"Appareil utilisé\")\n",
    "plt.ylabel(\"Durée d'abonnement (mois)\")\n",
    "plt.title(\"Comparaison de la durée selon le type d'appareil\")\n",
    "plt.show()"
   ]
  },
  {
   "cell_type": "markdown",
   "metadata": {},
   "source": [
    "Subscription duration varies significantly by device. This suggests that the type of device used might influence user engagement "
   ]
  },
  {
   "cell_type": "markdown",
   "metadata": {},
   "source": []
  },
  {
   "cell_type": "code",
   "execution_count": null,
   "metadata": {},
   "outputs": [],
   "source": [
    "def finding_outliers(data, variable_name):\n",
    "\n",
    "    # Calcule de IQR\n",
    "    iqr = stats.iqr(data[variable_name])\n",
    "\n",
    "    # Calcul de Q1 - 1,5 IQR\n",
    "    lower = np.quantile(data[variable_name], 0.25)  - 1.5 * iqr\n",
    "\n",
    "    # Calcul de Q3 + 1,5 IQR\n",
    "    upper = np.quantile(data[variable_name], 0.75)  + 1.5 * iqr\n",
    "  \n",
    "    # dataframe des outliers\n",
    "    return data[(data[variable_name] < lower) | (data[variable_name] > upper)]"
   ]
  },
  {
   "cell_type": "markdown",
   "metadata": {},
   "source": [
    "Identifying outliers in monthly revenue"
   ]
  },
  {
   "cell_type": "code",
   "execution_count": null,
   "metadata": {},
   "outputs": [
    {
     "data": {
      "text/html": [
       "<div>\n",
       "<style scoped>\n",
       "    .dataframe tbody tr th:only-of-type {\n",
       "        vertical-align: middle;\n",
       "    }\n",
       "\n",
       "    .dataframe tbody tr th {\n",
       "        vertical-align: top;\n",
       "    }\n",
       "\n",
       "    .dataframe thead th {\n",
       "        text-align: right;\n",
       "    }\n",
       "</style>\n",
       "<table border=\"1\" class=\"dataframe\">\n",
       "  <thead>\n",
       "    <tr style=\"text-align: right;\">\n",
       "      <th></th>\n",
       "      <th>user_id</th>\n",
       "      <th>subscription_type</th>\n",
       "      <th>monthly_revenue</th>\n",
       "      <th>country</th>\n",
       "      <th>age</th>\n",
       "      <th>gender</th>\n",
       "      <th>device</th>\n",
       "      <th>plan_duration</th>\n",
       "      <th>subscribed_duration</th>\n",
       "      <th>start_month</th>\n",
       "      <th>clv</th>\n",
       "    </tr>\n",
       "  </thead>\n",
       "  <tbody>\n",
       "  </tbody>\n",
       "</table>\n",
       "</div>"
      ],
      "text/plain": [
       "Empty DataFrame\n",
       "Columns: [user_id, subscription_type, monthly_revenue, country, age, gender, device, plan_duration, subscribed_duration, start_month, clv]\n",
       "Index: []"
      ]
     },
     "execution_count": 106,
     "metadata": {},
     "output_type": "execute_result"
    }
   ],
   "source": [
    "finding_outliers(data=d, variable_name=\"monthly_revenue\")"
   ]
  },
  {
   "cell_type": "markdown",
   "metadata": {},
   "source": [
    "Identifying outliers in CLV"
   ]
  },
  {
   "cell_type": "code",
   "execution_count": null,
   "metadata": {},
   "outputs": [
    {
     "data": {
      "text/html": [
       "<div>\n",
       "<style scoped>\n",
       "    .dataframe tbody tr th:only-of-type {\n",
       "        vertical-align: middle;\n",
       "    }\n",
       "\n",
       "    .dataframe tbody tr th {\n",
       "        vertical-align: top;\n",
       "    }\n",
       "\n",
       "    .dataframe thead th {\n",
       "        text-align: right;\n",
       "    }\n",
       "</style>\n",
       "<table border=\"1\" class=\"dataframe\">\n",
       "  <thead>\n",
       "    <tr style=\"text-align: right;\">\n",
       "      <th></th>\n",
       "      <th>user_id</th>\n",
       "      <th>subscription_type</th>\n",
       "      <th>monthly_revenue</th>\n",
       "      <th>country</th>\n",
       "      <th>age</th>\n",
       "      <th>gender</th>\n",
       "      <th>device</th>\n",
       "      <th>plan_duration</th>\n",
       "      <th>subscribed_duration</th>\n",
       "      <th>start_month</th>\n",
       "      <th>clv</th>\n",
       "    </tr>\n",
       "  </thead>\n",
       "  <tbody>\n",
       "    <tr>\n",
       "      <th>1</th>\n",
       "      <td>2</td>\n",
       "      <td>Premium</td>\n",
       "      <td>15</td>\n",
       "      <td>Canada</td>\n",
       "      <td>35</td>\n",
       "      <td>Female</td>\n",
       "      <td>Tablet</td>\n",
       "      <td>1 Month</td>\n",
       "      <td>774</td>\n",
       "      <td>5</td>\n",
       "      <td>11610</td>\n",
       "    </tr>\n",
       "    <tr>\n",
       "      <th>9</th>\n",
       "      <td>10</td>\n",
       "      <td>Premium</td>\n",
       "      <td>15</td>\n",
       "      <td>Italy</td>\n",
       "      <td>44</td>\n",
       "      <td>Female</td>\n",
       "      <td>Smart TV</td>\n",
       "      <td>1 Month</td>\n",
       "      <td>-9</td>\n",
       "      <td>7</td>\n",
       "      <td>-135</td>\n",
       "    </tr>\n",
       "    <tr>\n",
       "      <th>14</th>\n",
       "      <td>15</td>\n",
       "      <td>Standard</td>\n",
       "      <td>12</td>\n",
       "      <td>Germany</td>\n",
       "      <td>38</td>\n",
       "      <td>Female</td>\n",
       "      <td>Smart TV</td>\n",
       "      <td>1 Month</td>\n",
       "      <td>-69</td>\n",
       "      <td>9</td>\n",
       "      <td>-828</td>\n",
       "    </tr>\n",
       "    <tr>\n",
       "      <th>20</th>\n",
       "      <td>21</td>\n",
       "      <td>Premium</td>\n",
       "      <td>15</td>\n",
       "      <td>United States</td>\n",
       "      <td>26</td>\n",
       "      <td>Female</td>\n",
       "      <td>Laptop</td>\n",
       "      <td>1 Month</td>\n",
       "      <td>-106</td>\n",
       "      <td>10</td>\n",
       "      <td>-1590</td>\n",
       "    </tr>\n",
       "    <tr>\n",
       "      <th>22</th>\n",
       "      <td>23</td>\n",
       "      <td>Standard</td>\n",
       "      <td>12</td>\n",
       "      <td>United Kingdom</td>\n",
       "      <td>49</td>\n",
       "      <td>Female</td>\n",
       "      <td>Smart TV</td>\n",
       "      <td>1 Month</td>\n",
       "      <td>776</td>\n",
       "      <td>5</td>\n",
       "      <td>9312</td>\n",
       "    </tr>\n",
       "    <tr>\n",
       "      <th>34</th>\n",
       "      <td>35</td>\n",
       "      <td>Basic</td>\n",
       "      <td>10</td>\n",
       "      <td>Germany</td>\n",
       "      <td>39</td>\n",
       "      <td>Female</td>\n",
       "      <td>Smart TV</td>\n",
       "      <td>1 Month</td>\n",
       "      <td>-129</td>\n",
       "      <td>11</td>\n",
       "      <td>-1290</td>\n",
       "    </tr>\n",
       "    <tr>\n",
       "      <th>37</th>\n",
       "      <td>38</td>\n",
       "      <td>Standard</td>\n",
       "      <td>12</td>\n",
       "      <td>Mexico</td>\n",
       "      <td>32</td>\n",
       "      <td>Male</td>\n",
       "      <td>Smartphone</td>\n",
       "      <td>1 Month</td>\n",
       "      <td>774</td>\n",
       "      <td>5</td>\n",
       "      <td>9288</td>\n",
       "    </tr>\n",
       "    <tr>\n",
       "      <th>60</th>\n",
       "      <td>61</td>\n",
       "      <td>Premium</td>\n",
       "      <td>15</td>\n",
       "      <td>United States</td>\n",
       "      <td>28</td>\n",
       "      <td>Female</td>\n",
       "      <td>Laptop</td>\n",
       "      <td>1 Month</td>\n",
       "      <td>-41</td>\n",
       "      <td>8</td>\n",
       "      <td>-615</td>\n",
       "    </tr>\n",
       "    <tr>\n",
       "      <th>69</th>\n",
       "      <td>70</td>\n",
       "      <td>Basic</td>\n",
       "      <td>10</td>\n",
       "      <td>Italy</td>\n",
       "      <td>41</td>\n",
       "      <td>Male</td>\n",
       "      <td>Smartphone</td>\n",
       "      <td>1 Month</td>\n",
       "      <td>-44</td>\n",
       "      <td>8</td>\n",
       "      <td>-440</td>\n",
       "    </tr>\n",
       "    <tr>\n",
       "      <th>80</th>\n",
       "      <td>81</td>\n",
       "      <td>Premium</td>\n",
       "      <td>10</td>\n",
       "      <td>United States</td>\n",
       "      <td>37</td>\n",
       "      <td>Male</td>\n",
       "      <td>Tablet</td>\n",
       "      <td>1 Month</td>\n",
       "      <td>-130</td>\n",
       "      <td>11</td>\n",
       "      <td>-1300</td>\n",
       "    </tr>\n",
       "    <tr>\n",
       "      <th>108</th>\n",
       "      <td>109</td>\n",
       "      <td>Standard</td>\n",
       "      <td>13</td>\n",
       "      <td>Spain</td>\n",
       "      <td>35</td>\n",
       "      <td>Female</td>\n",
       "      <td>Tablet</td>\n",
       "      <td>1 Month</td>\n",
       "      <td>-38</td>\n",
       "      <td>8</td>\n",
       "      <td>-494</td>\n",
       "    </tr>\n",
       "    <tr>\n",
       "      <th>116</th>\n",
       "      <td>117</td>\n",
       "      <td>Basic</td>\n",
       "      <td>15</td>\n",
       "      <td>Brazil</td>\n",
       "      <td>40</td>\n",
       "      <td>Female</td>\n",
       "      <td>Tablet</td>\n",
       "      <td>1 Month</td>\n",
       "      <td>601</td>\n",
       "      <td>10</td>\n",
       "      <td>9015</td>\n",
       "    </tr>\n",
       "    <tr>\n",
       "      <th>129</th>\n",
       "      <td>130</td>\n",
       "      <td>Basic</td>\n",
       "      <td>14</td>\n",
       "      <td>Italy</td>\n",
       "      <td>43</td>\n",
       "      <td>Female</td>\n",
       "      <td>Tablet</td>\n",
       "      <td>1 Month</td>\n",
       "      <td>-8</td>\n",
       "      <td>7</td>\n",
       "      <td>-112</td>\n",
       "    </tr>\n",
       "    <tr>\n",
       "      <th>153</th>\n",
       "      <td>154</td>\n",
       "      <td>Standard</td>\n",
       "      <td>11</td>\n",
       "      <td>Australia</td>\n",
       "      <td>27</td>\n",
       "      <td>Male</td>\n",
       "      <td>Laptop</td>\n",
       "      <td>1 Month</td>\n",
       "      <td>-129</td>\n",
       "      <td>11</td>\n",
       "      <td>-1419</td>\n",
       "    </tr>\n",
       "    <tr>\n",
       "      <th>169</th>\n",
       "      <td>170</td>\n",
       "      <td>Basic</td>\n",
       "      <td>14</td>\n",
       "      <td>Italy</td>\n",
       "      <td>32</td>\n",
       "      <td>Male</td>\n",
       "      <td>Laptop</td>\n",
       "      <td>1 Month</td>\n",
       "      <td>-159</td>\n",
       "      <td>12</td>\n",
       "      <td>-2226</td>\n",
       "    </tr>\n",
       "    <tr>\n",
       "      <th>222</th>\n",
       "      <td>223</td>\n",
       "      <td>Standard</td>\n",
       "      <td>12</td>\n",
       "      <td>United Kingdom</td>\n",
       "      <td>34</td>\n",
       "      <td>Female</td>\n",
       "      <td>Smartphone</td>\n",
       "      <td>1 Month</td>\n",
       "      <td>-37</td>\n",
       "      <td>8</td>\n",
       "      <td>-444</td>\n",
       "    </tr>\n",
       "    <tr>\n",
       "      <th>1791</th>\n",
       "      <td>1792</td>\n",
       "      <td>Basic</td>\n",
       "      <td>15</td>\n",
       "      <td>Spain</td>\n",
       "      <td>45</td>\n",
       "      <td>Female</td>\n",
       "      <td>Tablet</td>\n",
       "      <td>1 Month</td>\n",
       "      <td>577</td>\n",
       "      <td>2</td>\n",
       "      <td>8655</td>\n",
       "    </tr>\n",
       "    <tr>\n",
       "      <th>1894</th>\n",
       "      <td>1895</td>\n",
       "      <td>Basic</td>\n",
       "      <td>15</td>\n",
       "      <td>Italy</td>\n",
       "      <td>45</td>\n",
       "      <td>Male</td>\n",
       "      <td>Laptop</td>\n",
       "      <td>1 Month</td>\n",
       "      <td>604</td>\n",
       "      <td>1</td>\n",
       "      <td>9060</td>\n",
       "    </tr>\n",
       "    <tr>\n",
       "      <th>1963</th>\n",
       "      <td>1964</td>\n",
       "      <td>Basic</td>\n",
       "      <td>15</td>\n",
       "      <td>Australia</td>\n",
       "      <td>29</td>\n",
       "      <td>Male</td>\n",
       "      <td>Smart TV</td>\n",
       "      <td>1 Month</td>\n",
       "      <td>573</td>\n",
       "      <td>1</td>\n",
       "      <td>8595</td>\n",
       "    </tr>\n",
       "    <tr>\n",
       "      <th>2083</th>\n",
       "      <td>2084</td>\n",
       "      <td>Premium</td>\n",
       "      <td>13</td>\n",
       "      <td>Australia</td>\n",
       "      <td>27</td>\n",
       "      <td>Female</td>\n",
       "      <td>Smartphone</td>\n",
       "      <td>1 Month</td>\n",
       "      <td>636</td>\n",
       "      <td>1</td>\n",
       "      <td>8268</td>\n",
       "    </tr>\n",
       "    <tr>\n",
       "      <th>2084</th>\n",
       "      <td>2085</td>\n",
       "      <td>Basic</td>\n",
       "      <td>15</td>\n",
       "      <td>Germany</td>\n",
       "      <td>33</td>\n",
       "      <td>Male</td>\n",
       "      <td>Laptop</td>\n",
       "      <td>1 Month</td>\n",
       "      <td>575</td>\n",
       "      <td>2</td>\n",
       "      <td>8625</td>\n",
       "    </tr>\n",
       "    <tr>\n",
       "      <th>2103</th>\n",
       "      <td>2104</td>\n",
       "      <td>Standard</td>\n",
       "      <td>13</td>\n",
       "      <td>Spain</td>\n",
       "      <td>28</td>\n",
       "      <td>Female</td>\n",
       "      <td>Tablet</td>\n",
       "      <td>1 Month</td>\n",
       "      <td>634</td>\n",
       "      <td>2</td>\n",
       "      <td>8242</td>\n",
       "    </tr>\n",
       "    <tr>\n",
       "      <th>2224</th>\n",
       "      <td>2225</td>\n",
       "      <td>Basic</td>\n",
       "      <td>13</td>\n",
       "      <td>Italy</td>\n",
       "      <td>45</td>\n",
       "      <td>Female</td>\n",
       "      <td>Smart TV</td>\n",
       "      <td>1 Month</td>\n",
       "      <td>666</td>\n",
       "      <td>2</td>\n",
       "      <td>8658</td>\n",
       "    </tr>\n",
       "    <tr>\n",
       "      <th>2268</th>\n",
       "      <td>2269</td>\n",
       "      <td>Premium</td>\n",
       "      <td>15</td>\n",
       "      <td>Spain</td>\n",
       "      <td>33</td>\n",
       "      <td>Female</td>\n",
       "      <td>Smartphone</td>\n",
       "      <td>1 Month</td>\n",
       "      <td>637</td>\n",
       "      <td>1</td>\n",
       "      <td>9555</td>\n",
       "    </tr>\n",
       "    <tr>\n",
       "      <th>2370</th>\n",
       "      <td>2371</td>\n",
       "      <td>Premium</td>\n",
       "      <td>15</td>\n",
       "      <td>France</td>\n",
       "      <td>29</td>\n",
       "      <td>Female</td>\n",
       "      <td>Smartphone</td>\n",
       "      <td>1 Month</td>\n",
       "      <td>576</td>\n",
       "      <td>3</td>\n",
       "      <td>8640</td>\n",
       "    </tr>\n",
       "    <tr>\n",
       "      <th>2394</th>\n",
       "      <td>2395</td>\n",
       "      <td>Basic</td>\n",
       "      <td>13</td>\n",
       "      <td>United States</td>\n",
       "      <td>30</td>\n",
       "      <td>Female</td>\n",
       "      <td>Smart TV</td>\n",
       "      <td>1 Month</td>\n",
       "      <td>634</td>\n",
       "      <td>2</td>\n",
       "      <td>8242</td>\n",
       "    </tr>\n",
       "    <tr>\n",
       "      <th>2408</th>\n",
       "      <td>2409</td>\n",
       "      <td>Standard</td>\n",
       "      <td>14</td>\n",
       "      <td>Canada</td>\n",
       "      <td>38</td>\n",
       "      <td>Female</td>\n",
       "      <td>Laptop</td>\n",
       "      <td>1 Month</td>\n",
       "      <td>609</td>\n",
       "      <td>3</td>\n",
       "      <td>8526</td>\n",
       "    </tr>\n",
       "    <tr>\n",
       "      <th>2410</th>\n",
       "      <td>2411</td>\n",
       "      <td>Basic</td>\n",
       "      <td>15</td>\n",
       "      <td>United States</td>\n",
       "      <td>37</td>\n",
       "      <td>Female</td>\n",
       "      <td>Smartphone</td>\n",
       "      <td>1 Month</td>\n",
       "      <td>637</td>\n",
       "      <td>2</td>\n",
       "      <td>9555</td>\n",
       "    </tr>\n",
       "    <tr>\n",
       "      <th>2464</th>\n",
       "      <td>2465</td>\n",
       "      <td>Basic</td>\n",
       "      <td>15</td>\n",
       "      <td>Italy</td>\n",
       "      <td>30</td>\n",
       "      <td>Male</td>\n",
       "      <td>Tablet</td>\n",
       "      <td>1 Month</td>\n",
       "      <td>606</td>\n",
       "      <td>3</td>\n",
       "      <td>9090</td>\n",
       "    </tr>\n",
       "  </tbody>\n",
       "</table>\n",
       "</div>"
      ],
      "text/plain": [
       "      user_id subscription_type  monthly_revenue         country  age  gender  \\\n",
       "1           2           Premium               15          Canada   35  Female   \n",
       "9          10           Premium               15           Italy   44  Female   \n",
       "14         15          Standard               12         Germany   38  Female   \n",
       "20         21           Premium               15   United States   26  Female   \n",
       "22         23          Standard               12  United Kingdom   49  Female   \n",
       "34         35             Basic               10         Germany   39  Female   \n",
       "37         38          Standard               12          Mexico   32    Male   \n",
       "60         61           Premium               15   United States   28  Female   \n",
       "69         70             Basic               10           Italy   41    Male   \n",
       "80         81           Premium               10   United States   37    Male   \n",
       "108       109          Standard               13           Spain   35  Female   \n",
       "116       117             Basic               15          Brazil   40  Female   \n",
       "129       130             Basic               14           Italy   43  Female   \n",
       "153       154          Standard               11       Australia   27    Male   \n",
       "169       170             Basic               14           Italy   32    Male   \n",
       "222       223          Standard               12  United Kingdom   34  Female   \n",
       "1791     1792             Basic               15           Spain   45  Female   \n",
       "1894     1895             Basic               15           Italy   45    Male   \n",
       "1963     1964             Basic               15       Australia   29    Male   \n",
       "2083     2084           Premium               13       Australia   27  Female   \n",
       "2084     2085             Basic               15         Germany   33    Male   \n",
       "2103     2104          Standard               13           Spain   28  Female   \n",
       "2224     2225             Basic               13           Italy   45  Female   \n",
       "2268     2269           Premium               15           Spain   33  Female   \n",
       "2370     2371           Premium               15          France   29  Female   \n",
       "2394     2395             Basic               13   United States   30  Female   \n",
       "2408     2409          Standard               14          Canada   38  Female   \n",
       "2410     2411             Basic               15   United States   37  Female   \n",
       "2464     2465             Basic               15           Italy   30    Male   \n",
       "\n",
       "          device plan_duration  subscribed_duration  start_month    clv  \n",
       "1         Tablet       1 Month                  774            5  11610  \n",
       "9       Smart TV       1 Month                   -9            7   -135  \n",
       "14      Smart TV       1 Month                  -69            9   -828  \n",
       "20        Laptop       1 Month                 -106           10  -1590  \n",
       "22      Smart TV       1 Month                  776            5   9312  \n",
       "34      Smart TV       1 Month                 -129           11  -1290  \n",
       "37    Smartphone       1 Month                  774            5   9288  \n",
       "60        Laptop       1 Month                  -41            8   -615  \n",
       "69    Smartphone       1 Month                  -44            8   -440  \n",
       "80        Tablet       1 Month                 -130           11  -1300  \n",
       "108       Tablet       1 Month                  -38            8   -494  \n",
       "116       Tablet       1 Month                  601           10   9015  \n",
       "129       Tablet       1 Month                   -8            7   -112  \n",
       "153       Laptop       1 Month                 -129           11  -1419  \n",
       "169       Laptop       1 Month                 -159           12  -2226  \n",
       "222   Smartphone       1 Month                  -37            8   -444  \n",
       "1791      Tablet       1 Month                  577            2   8655  \n",
       "1894      Laptop       1 Month                  604            1   9060  \n",
       "1963    Smart TV       1 Month                  573            1   8595  \n",
       "2083  Smartphone       1 Month                  636            1   8268  \n",
       "2084      Laptop       1 Month                  575            2   8625  \n",
       "2103      Tablet       1 Month                  634            2   8242  \n",
       "2224    Smart TV       1 Month                  666            2   8658  \n",
       "2268  Smartphone       1 Month                  637            1   9555  \n",
       "2370  Smartphone       1 Month                  576            3   8640  \n",
       "2394    Smart TV       1 Month                  634            2   8242  \n",
       "2408      Laptop       1 Month                  609            3   8526  \n",
       "2410  Smartphone       1 Month                  637            2   9555  \n",
       "2464      Tablet       1 Month                  606            3   9090  "
      ]
     },
     "execution_count": 107,
     "metadata": {},
     "output_type": "execute_result"
    }
   ],
   "source": [
    "finding_outliers(data=d, variable_name=\"clv\")"
   ]
  },
  {
   "cell_type": "markdown",
   "metadata": {},
   "source": [
    "Identifying outliers in subscription duration"
   ]
  },
  {
   "cell_type": "code",
   "execution_count": null,
   "metadata": {},
   "outputs": [
    {
     "data": {
      "text/html": [
       "<div>\n",
       "<style scoped>\n",
       "    .dataframe tbody tr th:only-of-type {\n",
       "        vertical-align: middle;\n",
       "    }\n",
       "\n",
       "    .dataframe tbody tr th {\n",
       "        vertical-align: top;\n",
       "    }\n",
       "\n",
       "    .dataframe thead th {\n",
       "        text-align: right;\n",
       "    }\n",
       "</style>\n",
       "<table border=\"1\" class=\"dataframe\">\n",
       "  <thead>\n",
       "    <tr style=\"text-align: right;\">\n",
       "      <th></th>\n",
       "      <th>user_id</th>\n",
       "      <th>subscription_type</th>\n",
       "      <th>monthly_revenue</th>\n",
       "      <th>country</th>\n",
       "      <th>age</th>\n",
       "      <th>gender</th>\n",
       "      <th>device</th>\n",
       "      <th>plan_duration</th>\n",
       "      <th>subscribed_duration</th>\n",
       "      <th>start_month</th>\n",
       "      <th>clv</th>\n",
       "    </tr>\n",
       "  </thead>\n",
       "  <tbody>\n",
       "    <tr>\n",
       "      <th>1</th>\n",
       "      <td>2</td>\n",
       "      <td>Premium</td>\n",
       "      <td>15</td>\n",
       "      <td>Canada</td>\n",
       "      <td>35</td>\n",
       "      <td>Female</td>\n",
       "      <td>Tablet</td>\n",
       "      <td>1 Month</td>\n",
       "      <td>774</td>\n",
       "      <td>5</td>\n",
       "      <td>11610</td>\n",
       "    </tr>\n",
       "    <tr>\n",
       "      <th>6</th>\n",
       "      <td>7</td>\n",
       "      <td>Standard</td>\n",
       "      <td>12</td>\n",
       "      <td>Brazil</td>\n",
       "      <td>46</td>\n",
       "      <td>Male</td>\n",
       "      <td>Tablet</td>\n",
       "      <td>1 Month</td>\n",
       "      <td>651</td>\n",
       "      <td>9</td>\n",
       "      <td>7812</td>\n",
       "    </tr>\n",
       "    <tr>\n",
       "      <th>9</th>\n",
       "      <td>10</td>\n",
       "      <td>Premium</td>\n",
       "      <td>15</td>\n",
       "      <td>Italy</td>\n",
       "      <td>44</td>\n",
       "      <td>Female</td>\n",
       "      <td>Smart TV</td>\n",
       "      <td>1 Month</td>\n",
       "      <td>-9</td>\n",
       "      <td>7</td>\n",
       "      <td>-135</td>\n",
       "    </tr>\n",
       "    <tr>\n",
       "      <th>14</th>\n",
       "      <td>15</td>\n",
       "      <td>Standard</td>\n",
       "      <td>12</td>\n",
       "      <td>Germany</td>\n",
       "      <td>38</td>\n",
       "      <td>Female</td>\n",
       "      <td>Smart TV</td>\n",
       "      <td>1 Month</td>\n",
       "      <td>-69</td>\n",
       "      <td>9</td>\n",
       "      <td>-828</td>\n",
       "    </tr>\n",
       "    <tr>\n",
       "      <th>20</th>\n",
       "      <td>21</td>\n",
       "      <td>Premium</td>\n",
       "      <td>15</td>\n",
       "      <td>United States</td>\n",
       "      <td>26</td>\n",
       "      <td>Female</td>\n",
       "      <td>Laptop</td>\n",
       "      <td>1 Month</td>\n",
       "      <td>-106</td>\n",
       "      <td>10</td>\n",
       "      <td>-1590</td>\n",
       "    </tr>\n",
       "    <tr>\n",
       "      <th>22</th>\n",
       "      <td>23</td>\n",
       "      <td>Standard</td>\n",
       "      <td>12</td>\n",
       "      <td>United Kingdom</td>\n",
       "      <td>49</td>\n",
       "      <td>Female</td>\n",
       "      <td>Smart TV</td>\n",
       "      <td>1 Month</td>\n",
       "      <td>776</td>\n",
       "      <td>5</td>\n",
       "      <td>9312</td>\n",
       "    </tr>\n",
       "    <tr>\n",
       "      <th>27</th>\n",
       "      <td>28</td>\n",
       "      <td>Standard</td>\n",
       "      <td>12</td>\n",
       "      <td>Mexico</td>\n",
       "      <td>33</td>\n",
       "      <td>Male</td>\n",
       "      <td>Tablet</td>\n",
       "      <td>1 Month</td>\n",
       "      <td>635</td>\n",
       "      <td>9</td>\n",
       "      <td>7620</td>\n",
       "    </tr>\n",
       "    <tr>\n",
       "      <th>34</th>\n",
       "      <td>35</td>\n",
       "      <td>Basic</td>\n",
       "      <td>10</td>\n",
       "      <td>Germany</td>\n",
       "      <td>39</td>\n",
       "      <td>Female</td>\n",
       "      <td>Smart TV</td>\n",
       "      <td>1 Month</td>\n",
       "      <td>-129</td>\n",
       "      <td>11</td>\n",
       "      <td>-1290</td>\n",
       "    </tr>\n",
       "    <tr>\n",
       "      <th>37</th>\n",
       "      <td>38</td>\n",
       "      <td>Standard</td>\n",
       "      <td>12</td>\n",
       "      <td>Mexico</td>\n",
       "      <td>32</td>\n",
       "      <td>Male</td>\n",
       "      <td>Smartphone</td>\n",
       "      <td>1 Month</td>\n",
       "      <td>774</td>\n",
       "      <td>5</td>\n",
       "      <td>9288</td>\n",
       "    </tr>\n",
       "    <tr>\n",
       "      <th>39</th>\n",
       "      <td>40</td>\n",
       "      <td>Basic</td>\n",
       "      <td>10</td>\n",
       "      <td>Italy</td>\n",
       "      <td>48</td>\n",
       "      <td>Male</td>\n",
       "      <td>Tablet</td>\n",
       "      <td>1 Month</td>\n",
       "      <td>-11</td>\n",
       "      <td>7</td>\n",
       "      <td>-110</td>\n",
       "    </tr>\n",
       "    <tr>\n",
       "      <th>47</th>\n",
       "      <td>48</td>\n",
       "      <td>Standard</td>\n",
       "      <td>12</td>\n",
       "      <td>Mexico</td>\n",
       "      <td>32</td>\n",
       "      <td>Male</td>\n",
       "      <td>Tablet</td>\n",
       "      <td>1 Month</td>\n",
       "      <td>647</td>\n",
       "      <td>9</td>\n",
       "      <td>7764</td>\n",
       "    </tr>\n",
       "    <tr>\n",
       "      <th>57</th>\n",
       "      <td>58</td>\n",
       "      <td>Standard</td>\n",
       "      <td>12</td>\n",
       "      <td>Mexico</td>\n",
       "      <td>34</td>\n",
       "      <td>Male</td>\n",
       "      <td>Smartphone</td>\n",
       "      <td>1 Month</td>\n",
       "      <td>683</td>\n",
       "      <td>8</td>\n",
       "      <td>8196</td>\n",
       "    </tr>\n",
       "    <tr>\n",
       "      <th>59</th>\n",
       "      <td>60</td>\n",
       "      <td>Basic</td>\n",
       "      <td>10</td>\n",
       "      <td>Italy</td>\n",
       "      <td>42</td>\n",
       "      <td>Male</td>\n",
       "      <td>Tablet</td>\n",
       "      <td>1 Month</td>\n",
       "      <td>8</td>\n",
       "      <td>6</td>\n",
       "      <td>80</td>\n",
       "    </tr>\n",
       "    <tr>\n",
       "      <th>60</th>\n",
       "      <td>61</td>\n",
       "      <td>Premium</td>\n",
       "      <td>15</td>\n",
       "      <td>United States</td>\n",
       "      <td>28</td>\n",
       "      <td>Female</td>\n",
       "      <td>Laptop</td>\n",
       "      <td>1 Month</td>\n",
       "      <td>-41</td>\n",
       "      <td>8</td>\n",
       "      <td>-615</td>\n",
       "    </tr>\n",
       "    <tr>\n",
       "      <th>67</th>\n",
       "      <td>68</td>\n",
       "      <td>Standard</td>\n",
       "      <td>12</td>\n",
       "      <td>Mexico</td>\n",
       "      <td>33</td>\n",
       "      <td>Male</td>\n",
       "      <td>Tablet</td>\n",
       "      <td>1 Month</td>\n",
       "      <td>651</td>\n",
       "      <td>9</td>\n",
       "      <td>7812</td>\n",
       "    </tr>\n",
       "    <tr>\n",
       "      <th>69</th>\n",
       "      <td>70</td>\n",
       "      <td>Basic</td>\n",
       "      <td>10</td>\n",
       "      <td>Italy</td>\n",
       "      <td>41</td>\n",
       "      <td>Male</td>\n",
       "      <td>Smartphone</td>\n",
       "      <td>1 Month</td>\n",
       "      <td>-44</td>\n",
       "      <td>8</td>\n",
       "      <td>-440</td>\n",
       "    </tr>\n",
       "    <tr>\n",
       "      <th>80</th>\n",
       "      <td>81</td>\n",
       "      <td>Premium</td>\n",
       "      <td>10</td>\n",
       "      <td>United States</td>\n",
       "      <td>37</td>\n",
       "      <td>Male</td>\n",
       "      <td>Tablet</td>\n",
       "      <td>1 Month</td>\n",
       "      <td>-130</td>\n",
       "      <td>11</td>\n",
       "      <td>-1300</td>\n",
       "    </tr>\n",
       "    <tr>\n",
       "      <th>108</th>\n",
       "      <td>109</td>\n",
       "      <td>Standard</td>\n",
       "      <td>13</td>\n",
       "      <td>Spain</td>\n",
       "      <td>35</td>\n",
       "      <td>Female</td>\n",
       "      <td>Tablet</td>\n",
       "      <td>1 Month</td>\n",
       "      <td>-38</td>\n",
       "      <td>8</td>\n",
       "      <td>-494</td>\n",
       "    </tr>\n",
       "    <tr>\n",
       "      <th>129</th>\n",
       "      <td>130</td>\n",
       "      <td>Basic</td>\n",
       "      <td>14</td>\n",
       "      <td>Italy</td>\n",
       "      <td>43</td>\n",
       "      <td>Female</td>\n",
       "      <td>Tablet</td>\n",
       "      <td>1 Month</td>\n",
       "      <td>-8</td>\n",
       "      <td>7</td>\n",
       "      <td>-112</td>\n",
       "    </tr>\n",
       "    <tr>\n",
       "      <th>153</th>\n",
       "      <td>154</td>\n",
       "      <td>Standard</td>\n",
       "      <td>11</td>\n",
       "      <td>Australia</td>\n",
       "      <td>27</td>\n",
       "      <td>Male</td>\n",
       "      <td>Laptop</td>\n",
       "      <td>1 Month</td>\n",
       "      <td>-129</td>\n",
       "      <td>11</td>\n",
       "      <td>-1419</td>\n",
       "    </tr>\n",
       "    <tr>\n",
       "      <th>169</th>\n",
       "      <td>170</td>\n",
       "      <td>Basic</td>\n",
       "      <td>14</td>\n",
       "      <td>Italy</td>\n",
       "      <td>32</td>\n",
       "      <td>Male</td>\n",
       "      <td>Laptop</td>\n",
       "      <td>1 Month</td>\n",
       "      <td>-159</td>\n",
       "      <td>12</td>\n",
       "      <td>-2226</td>\n",
       "    </tr>\n",
       "    <tr>\n",
       "      <th>222</th>\n",
       "      <td>223</td>\n",
       "      <td>Standard</td>\n",
       "      <td>12</td>\n",
       "      <td>United Kingdom</td>\n",
       "      <td>34</td>\n",
       "      <td>Female</td>\n",
       "      <td>Smartphone</td>\n",
       "      <td>1 Month</td>\n",
       "      <td>-37</td>\n",
       "      <td>8</td>\n",
       "      <td>-444</td>\n",
       "    </tr>\n",
       "    <tr>\n",
       "      <th>1847</th>\n",
       "      <td>1848</td>\n",
       "      <td>Standard</td>\n",
       "      <td>11</td>\n",
       "      <td>Mexico</td>\n",
       "      <td>49</td>\n",
       "      <td>Male</td>\n",
       "      <td>Laptop</td>\n",
       "      <td>1 Month</td>\n",
       "      <td>637</td>\n",
       "      <td>1</td>\n",
       "      <td>7007</td>\n",
       "    </tr>\n",
       "    <tr>\n",
       "      <th>2083</th>\n",
       "      <td>2084</td>\n",
       "      <td>Premium</td>\n",
       "      <td>13</td>\n",
       "      <td>Australia</td>\n",
       "      <td>27</td>\n",
       "      <td>Female</td>\n",
       "      <td>Smartphone</td>\n",
       "      <td>1 Month</td>\n",
       "      <td>636</td>\n",
       "      <td>1</td>\n",
       "      <td>8268</td>\n",
       "    </tr>\n",
       "    <tr>\n",
       "      <th>2103</th>\n",
       "      <td>2104</td>\n",
       "      <td>Standard</td>\n",
       "      <td>13</td>\n",
       "      <td>Spain</td>\n",
       "      <td>28</td>\n",
       "      <td>Female</td>\n",
       "      <td>Tablet</td>\n",
       "      <td>1 Month</td>\n",
       "      <td>634</td>\n",
       "      <td>2</td>\n",
       "      <td>8242</td>\n",
       "    </tr>\n",
       "    <tr>\n",
       "      <th>2115</th>\n",
       "      <td>2116</td>\n",
       "      <td>Premium</td>\n",
       "      <td>12</td>\n",
       "      <td>France</td>\n",
       "      <td>33</td>\n",
       "      <td>Female</td>\n",
       "      <td>Tablet</td>\n",
       "      <td>1 Month</td>\n",
       "      <td>634</td>\n",
       "      <td>1</td>\n",
       "      <td>7608</td>\n",
       "    </tr>\n",
       "    <tr>\n",
       "      <th>2224</th>\n",
       "      <td>2225</td>\n",
       "      <td>Basic</td>\n",
       "      <td>13</td>\n",
       "      <td>Italy</td>\n",
       "      <td>45</td>\n",
       "      <td>Female</td>\n",
       "      <td>Smart TV</td>\n",
       "      <td>1 Month</td>\n",
       "      <td>666</td>\n",
       "      <td>2</td>\n",
       "      <td>8658</td>\n",
       "    </tr>\n",
       "    <tr>\n",
       "      <th>2259</th>\n",
       "      <td>2260</td>\n",
       "      <td>Premium</td>\n",
       "      <td>10</td>\n",
       "      <td>United States</td>\n",
       "      <td>31</td>\n",
       "      <td>Male</td>\n",
       "      <td>Tablet</td>\n",
       "      <td>1 Month</td>\n",
       "      <td>666</td>\n",
       "      <td>1</td>\n",
       "      <td>6660</td>\n",
       "    </tr>\n",
       "    <tr>\n",
       "      <th>2263</th>\n",
       "      <td>2264</td>\n",
       "      <td>Basic</td>\n",
       "      <td>12</td>\n",
       "      <td>Australia</td>\n",
       "      <td>41</td>\n",
       "      <td>Male</td>\n",
       "      <td>Smartphone</td>\n",
       "      <td>1 Month</td>\n",
       "      <td>666</td>\n",
       "      <td>2</td>\n",
       "      <td>7992</td>\n",
       "    </tr>\n",
       "    <tr>\n",
       "      <th>2268</th>\n",
       "      <td>2269</td>\n",
       "      <td>Premium</td>\n",
       "      <td>15</td>\n",
       "      <td>Spain</td>\n",
       "      <td>33</td>\n",
       "      <td>Female</td>\n",
       "      <td>Smartphone</td>\n",
       "      <td>1 Month</td>\n",
       "      <td>637</td>\n",
       "      <td>1</td>\n",
       "      <td>9555</td>\n",
       "    </tr>\n",
       "    <tr>\n",
       "      <th>2325</th>\n",
       "      <td>2326</td>\n",
       "      <td>Basic</td>\n",
       "      <td>12</td>\n",
       "      <td>France</td>\n",
       "      <td>39</td>\n",
       "      <td>Male</td>\n",
       "      <td>Tablet</td>\n",
       "      <td>1 Month</td>\n",
       "      <td>665</td>\n",
       "      <td>1</td>\n",
       "      <td>7980</td>\n",
       "    </tr>\n",
       "    <tr>\n",
       "      <th>2381</th>\n",
       "      <td>2382</td>\n",
       "      <td>Basic</td>\n",
       "      <td>12</td>\n",
       "      <td>Canada</td>\n",
       "      <td>34</td>\n",
       "      <td>Female</td>\n",
       "      <td>Tablet</td>\n",
       "      <td>1 Month</td>\n",
       "      <td>665</td>\n",
       "      <td>1</td>\n",
       "      <td>7980</td>\n",
       "    </tr>\n",
       "    <tr>\n",
       "      <th>2394</th>\n",
       "      <td>2395</td>\n",
       "      <td>Basic</td>\n",
       "      <td>13</td>\n",
       "      <td>United States</td>\n",
       "      <td>30</td>\n",
       "      <td>Female</td>\n",
       "      <td>Smart TV</td>\n",
       "      <td>1 Month</td>\n",
       "      <td>634</td>\n",
       "      <td>2</td>\n",
       "      <td>8242</td>\n",
       "    </tr>\n",
       "    <tr>\n",
       "      <th>2410</th>\n",
       "      <td>2411</td>\n",
       "      <td>Basic</td>\n",
       "      <td>15</td>\n",
       "      <td>United States</td>\n",
       "      <td>37</td>\n",
       "      <td>Female</td>\n",
       "      <td>Smartphone</td>\n",
       "      <td>1 Month</td>\n",
       "      <td>637</td>\n",
       "      <td>2</td>\n",
       "      <td>9555</td>\n",
       "    </tr>\n",
       "  </tbody>\n",
       "</table>\n",
       "</div>"
      ],
      "text/plain": [
       "      user_id subscription_type  monthly_revenue         country  age  gender  \\\n",
       "1           2           Premium               15          Canada   35  Female   \n",
       "6           7          Standard               12          Brazil   46    Male   \n",
       "9          10           Premium               15           Italy   44  Female   \n",
       "14         15          Standard               12         Germany   38  Female   \n",
       "20         21           Premium               15   United States   26  Female   \n",
       "22         23          Standard               12  United Kingdom   49  Female   \n",
       "27         28          Standard               12          Mexico   33    Male   \n",
       "34         35             Basic               10         Germany   39  Female   \n",
       "37         38          Standard               12          Mexico   32    Male   \n",
       "39         40             Basic               10           Italy   48    Male   \n",
       "47         48          Standard               12          Mexico   32    Male   \n",
       "57         58          Standard               12          Mexico   34    Male   \n",
       "59         60             Basic               10           Italy   42    Male   \n",
       "60         61           Premium               15   United States   28  Female   \n",
       "67         68          Standard               12          Mexico   33    Male   \n",
       "69         70             Basic               10           Italy   41    Male   \n",
       "80         81           Premium               10   United States   37    Male   \n",
       "108       109          Standard               13           Spain   35  Female   \n",
       "129       130             Basic               14           Italy   43  Female   \n",
       "153       154          Standard               11       Australia   27    Male   \n",
       "169       170             Basic               14           Italy   32    Male   \n",
       "222       223          Standard               12  United Kingdom   34  Female   \n",
       "1847     1848          Standard               11          Mexico   49    Male   \n",
       "2083     2084           Premium               13       Australia   27  Female   \n",
       "2103     2104          Standard               13           Spain   28  Female   \n",
       "2115     2116           Premium               12          France   33  Female   \n",
       "2224     2225             Basic               13           Italy   45  Female   \n",
       "2259     2260           Premium               10   United States   31    Male   \n",
       "2263     2264             Basic               12       Australia   41    Male   \n",
       "2268     2269           Premium               15           Spain   33  Female   \n",
       "2325     2326             Basic               12          France   39    Male   \n",
       "2381     2382             Basic               12          Canada   34  Female   \n",
       "2394     2395             Basic               13   United States   30  Female   \n",
       "2410     2411             Basic               15   United States   37  Female   \n",
       "\n",
       "          device plan_duration  subscribed_duration  start_month    clv  \n",
       "1         Tablet       1 Month                  774            5  11610  \n",
       "6         Tablet       1 Month                  651            9   7812  \n",
       "9       Smart TV       1 Month                   -9            7   -135  \n",
       "14      Smart TV       1 Month                  -69            9   -828  \n",
       "20        Laptop       1 Month                 -106           10  -1590  \n",
       "22      Smart TV       1 Month                  776            5   9312  \n",
       "27        Tablet       1 Month                  635            9   7620  \n",
       "34      Smart TV       1 Month                 -129           11  -1290  \n",
       "37    Smartphone       1 Month                  774            5   9288  \n",
       "39        Tablet       1 Month                  -11            7   -110  \n",
       "47        Tablet       1 Month                  647            9   7764  \n",
       "57    Smartphone       1 Month                  683            8   8196  \n",
       "59        Tablet       1 Month                    8            6     80  \n",
       "60        Laptop       1 Month                  -41            8   -615  \n",
       "67        Tablet       1 Month                  651            9   7812  \n",
       "69    Smartphone       1 Month                  -44            8   -440  \n",
       "80        Tablet       1 Month                 -130           11  -1300  \n",
       "108       Tablet       1 Month                  -38            8   -494  \n",
       "129       Tablet       1 Month                   -8            7   -112  \n",
       "153       Laptop       1 Month                 -129           11  -1419  \n",
       "169       Laptop       1 Month                 -159           12  -2226  \n",
       "222   Smartphone       1 Month                  -37            8   -444  \n",
       "1847      Laptop       1 Month                  637            1   7007  \n",
       "2083  Smartphone       1 Month                  636            1   8268  \n",
       "2103      Tablet       1 Month                  634            2   8242  \n",
       "2115      Tablet       1 Month                  634            1   7608  \n",
       "2224    Smart TV       1 Month                  666            2   8658  \n",
       "2259      Tablet       1 Month                  666            1   6660  \n",
       "2263  Smartphone       1 Month                  666            2   7992  \n",
       "2268  Smartphone       1 Month                  637            1   9555  \n",
       "2325      Tablet       1 Month                  665            1   7980  \n",
       "2381      Tablet       1 Month                  665            1   7980  \n",
       "2394    Smart TV       1 Month                  634            2   8242  \n",
       "2410  Smartphone       1 Month                  637            2   9555  "
      ]
     },
     "execution_count": 108,
     "metadata": {},
     "output_type": "execute_result"
    }
   ],
   "source": [
    "finding_outliers(data=d, variable_name=\"subscribed_duration\")"
   ]
  },
  {
   "cell_type": "markdown",
   "metadata": {},
   "source": [
    "Creating a boxplot for CLV"
   ]
  },
  {
   "cell_type": "code",
   "execution_count": null,
   "metadata": {},
   "outputs": [
    {
     "data": {
      "text/plain": [
       "Text(0.5, 1.0, 'Boxplot de la valeur à vie du client ')"
      ]
     },
     "execution_count": 118,
     "metadata": {},
     "output_type": "execute_result"
    },
    {
     "data": {
      "image/png": "[encoded data removed]",
      "text/plain": [
       "<Figure size 432x288 with 1 Axes>"
      ]
     },
     "metadata": {},
     "output_type": "display_data"
    }
   ],
   "source": [
    "sns.boxplot(y=d['clv']).set_title(\"Boxplot de la valeur à vie du client \")"
   ]
  },
  {
   "cell_type": "markdown",
   "metadata": {},
   "source": [
    "Generating a heatmap of correlation coefficients"
   ]
  },
  {
   "cell_type": "code",
   "execution_count": null,
   "metadata": {},
   "outputs": [
    {
     "data": {
      "image/png": "[encoded data removed]",
      "text/plain": [
       "<Figure size 432x288 with 2 Axes>"
      ]
     },
     "metadata": {},
     "output_type": "display_data"
    }
   ],
   "source": [
    "sns.heatmap(d.corr()).set_title('Carte des Coefficients de corrélation');"
   ]
  },
  {
   "cell_type": "markdown",
   "metadata": {},
   "source": [
    "Creating a triangular heatmap of correlation coefficients"
   ]
  },
  {
   "cell_type": "code",
   "execution_count": null,
   "metadata": {},
   "outputs": [
    {
     "data": {
      "image/png": "[encoded data removed]",
      "text/plain": [
       "<Figure size 1152x1152 with 2 Axes>"
      ]
     },
     "metadata": {},
     "output_type": "display_data"
    }
   ],
   "source": [
    "plt.figure(figsize = (16, 16))\n",
    "\n",
    "mask = np.triu(np.ones_like(d.corr(), dtype=bool))\n",
    "\n",
    "sns.heatmap(d.corr(), mask=mask, center=0, \n",
    "            cmap='RdBu', linewidths=1, annot=True, \n",
    "            fmt=\".2f\", vmin=-1, vmax=1)\n",
    "\n",
    "plt.title('Carte des corrélations', fontsize=15, fontweight=\"bold\")\n",
    "\n",
    "plt.show()"
   ]
  },
  {
   "cell_type": "markdown",
   "metadata": {},
   "source": [
    "Visualizing the relationship between age and subscription duration by gender"
   ]
  },
  {
   "cell_type": "code",
   "execution_count": null,
   "metadata": {},
   "outputs": [
    {
     "data": {
      "image/png": "[encoded data removed]",
      "text/plain": [
       "<Figure size 440x216 with 2 Axes>"
      ]
     },
     "metadata": {},
     "output_type": "display_data"
    }
   ],
   "source": [
    "sns.FacetGrid(d, col=\"gender\").map(plt.scatter, \"age\", \"subscribed_duration\").add_legend();"
   ]
  },
  {
   "cell_type": "markdown",
   "metadata": {},
   "source": [
    "Visualizing the relationship between CLV and monthly revenue by country"
   ]
  },
  {
   "cell_type": "code",
   "execution_count": null,
   "metadata": {},
   "outputs": [
    {
     "data": {
      "image/png": "[encoded data removed]",
      "text/plain": [
       "<Figure size 2168x216 with 10 Axes>"
      ]
     },
     "metadata": {},
     "output_type": "display_data"
    }
   ],
   "source": [
    "sns.FacetGrid(d, col=\"country\").map(plt.scatter, \"clv\", \"monthly_revenue\").add_legend();"
   ]
  },
  {
   "cell_type": "markdown",
   "metadata": {},
   "source": [
    "The clv varies across countries, indicating that user lifetime value is influenced by geographic "
   ]
  },
  {
   "cell_type": "markdown",
   "metadata": {},
   "source": []
  },
  {
   "cell_type": "markdown",
   "metadata": {},
   "source": [
    "Calculating the Pearson correlation between CLV and monthly revenue for each gender"
   ]
  },
  {
   "cell_type": "code",
   "execution_count": null,
   "metadata": {},
   "outputs": [
    {
     "name": "stdout",
     "output_type": "stream",
     "text": [
      "Female : (0.34001934952410584, 2.1699517514110963e-35)\n",
      "Male : (0.3421432422553708, 1.8529217189681926e-35)\n"
     ]
    }
   ],
   "source": [
    "print(\n",
    "    'Female :', \n",
    "    stats.pearsonr(d[d['gender'] == 'Female']['clv'], \n",
    "                   d[d['gender'] == 'Female']['monthly_revenue']))\n",
    "\n",
    "print(\n",
    "    'Male :', \n",
    "    stats.pearsonr(d[d['gender'] == 'Male']['clv'], \n",
    "                   d[d['gender'] == 'Male']['monthly_revenue']))"
   ]
  },
  {
   "cell_type": "markdown",
   "metadata": {},
   "source": [
    "la relation entre CLV et revenu mensuel ne varie pas significativement en fonction du genre.\n",
    "une corrélation positive modérée.Cela signifie que les utilisateurs ayant un CLV élevé ont tendance à dépenser plus chaque mois mais Les valeurs p sont très faibles"
   ]
  },
  {
   "cell_type": "code",
   "execution_count": null,
   "metadata": {},
   "outputs": [
    {
     "name": "stdout",
     "output_type": "stream",
     "text": [
      "      user_id subscription_type  monthly_revenue         country  age  gender  \\\n",
      "0           1             Basic               10   United States   28    Male   \n",
      "1           2           Premium               15          Canada   35  Female   \n",
      "5           6           Premium               15          France   29  Female   \n",
      "6           7          Standard               12          Brazil   46    Male   \n",
      "12         13          Standard               12  United Kingdom   48  Female   \n",
      "...       ...               ...              ...             ...  ...     ...   \n",
      "2494     2495             Basic               15           Italy   43  Female   \n",
      "2495     2496           Premium               14           Spain   28  Female   \n",
      "2496     2497             Basic               15           Spain   33  Female   \n",
      "2498     2499          Standard               13          Canada   48  Female   \n",
      "2499     2500             Basic               15   United States   35  Female   \n",
      "\n",
      "          device plan_duration  subscribed_duration  start_month    clv  \n",
      "0     Smartphone       1 Month                  629            1   6290  \n",
      "1         Tablet       1 Month                  774            5  11610  \n",
      "5       Smart TV       1 Month                  466            3   6990  \n",
      "6         Tablet       1 Month                  651            9   7812  \n",
      "12        Laptop       1 Month                  574           11   6888  \n",
      "...          ...           ...                  ...          ...    ...  \n",
      "2494      Laptop       1 Month                  502            7   7530  \n",
      "2495    Smart TV       1 Month                  500            7   7000  \n",
      "2496    Smart TV       1 Month                  462            4   6930  \n",
      "2498      Tablet       1 Month                  364           12   4732  \n",
      "2499    Smart TV       1 Month                  481            8   7215  \n",
      "\n",
      "[1198 rows x 11 columns]\n"
     ]
    }
   ],
   "source": [
    "high_clv_users = d[d['clv'] > d['clv'].mean()]\n",
    "print(high_clv_users)\n"
   ]
  },
  {
   "cell_type": "markdown",
   "metadata": {},
   "source": [
    "Summing monthly revenue by country"
   ]
  },
  {
   "cell_type": "code",
   "execution_count": null,
   "metadata": {},
   "outputs": [
    {
     "name": "stdout",
     "output_type": "stream",
     "text": [
      "country\n",
      "United States     5664\n",
      "Spain             5662\n",
      "Canada            3950\n",
      "United Kingdom    2318\n",
      "Italy             2317\n",
      "France            2307\n",
      "Brazil            2285\n",
      "Australia         2271\n",
      "Germany           2260\n",
      "Mexico            2237\n",
      "Name: monthly_revenue, dtype: int64\n"
     ]
    }
   ],
   "source": [
    "revenue_by_country = d.groupby('country')['monthly_revenue'].sum().sort_values(ascending=False)\n",
    "print(revenue_by_country)\n"
   ]
  },
  {
   "cell_type": "markdown",
   "metadata": {},
   "source": [
    "Visualizing the impact of device type on subscription duration"
   ]
  },
  {
   "cell_type": "code",
   "execution_count": null,
   "metadata": {},
   "outputs": [
    {
     "data": {
      "image/png": "[encoded data removed]",
      "text/plain": [
       "<Figure size 432x288 with 1 Axes>"
      ]
     },
     "metadata": {},
     "output_type": "display_data"
    }
   ],
   "source": [
    "sns.scatterplot(x='device', y='subscribed_duration', data=d)\n",
    "plt.xlabel(\"Appareil\")\n",
    "plt.ylabel(\"Durée d'abonnement (mois)\")\n",
    "plt.title(\"Durée d'abonnement par appareil\")\n",
    "plt.show()"
   ]
  },
  {
   "cell_type": "markdown",
   "metadata": {},
   "source": [
    "Analyzing consumption trends by gender and age"
   ]
  },
  {
   "cell_type": "code",
   "execution_count": null,
   "metadata": {},
   "outputs": [
    {
     "data": {
      "image/png": "[encoded data removed]",
      "text/plain": [
       "<Figure size 432x288 with 1 Axes>"
      ]
     },
     "metadata": {},
     "output_type": "display_data"
    }
   ],
   "source": [
    "sns.boxplot(x='gender', y='age', hue='subscription_type', data=d)\n",
    "plt.xlabel(\"Genre\")\n",
    "plt.ylabel(\"Âge\")\n",
    "plt.title(\"Tendances de consommation par genre et âge\")\n",
    "plt.legend(title=\"Type d'abonnement\")\n",
    "plt.show()"
   ]
  },
  {
   "cell_type": "markdown",
   "metadata": {},
   "source": [
    "This suggests that age impacts subscription duration differently for males and females."
   ]
  },
  {
   "cell_type": "markdown",
   "metadata": {},
   "source": []
  },
  {
   "cell_type": "markdown",
   "metadata": {},
   "source": [
    "Visualizing the relationship between subscription duration and CLV"
   ]
  },
  {
   "cell_type": "code",
   "execution_count": null,
   "metadata": {},
   "outputs": [
    {
     "data": {
      "text/plain": [
       "Text(13, 230, '(0.9298659544623267, 0.0)')"
      ]
     },
     "execution_count": 143,
     "metadata": {},
     "output_type": "execute_result"
    },
    {
     "data": {
      "image/png": "[encoded data removed]",
      "text/plain": [
       "<Figure size 432x288 with 1 Axes>"
      ]
     },
     "metadata": {},
     "output_type": "display_data"
    }
   ],
   "source": [
    "sns.kdeplot(\n",
    "    x=\"subscribed_duration\", \n",
    "    y=\"clv\", \n",
    "    cmap=\"Reds\", \n",
    "    shade=True, \n",
    "    data=d )\n",
    "plt.annotate(text=stats.pearsonr(d[\"subscribed_duration\"], d[\"clv\"]), xy=(13,230))"
   ]
  },
  {
   "cell_type": "markdown",
   "metadata": {},
   "source": [
    "Creating a contingency table for gender and subscription type"
   ]
  },
  {
   "cell_type": "code",
   "execution_count": null,
   "metadata": {},
   "outputs": [
    {
     "data": {
      "text/html": [
       "<div>\n",
       "<style scoped>\n",
       "    .dataframe tbody tr th:only-of-type {\n",
       "        vertical-align: middle;\n",
       "    }\n",
       "\n",
       "    .dataframe tbody tr th {\n",
       "        vertical-align: top;\n",
       "    }\n",
       "\n",
       "    .dataframe thead th {\n",
       "        text-align: right;\n",
       "    }\n",
       "</style>\n",
       "<table border=\"1\" class=\"dataframe\">\n",
       "  <thead>\n",
       "    <tr style=\"text-align: right;\">\n",
       "      <th>subscription_type</th>\n",
       "      <th>Basic</th>\n",
       "      <th>Premium</th>\n",
       "      <th>Standard</th>\n",
       "    </tr>\n",
       "    <tr>\n",
       "      <th>gender</th>\n",
       "      <th></th>\n",
       "      <th></th>\n",
       "      <th></th>\n",
       "    </tr>\n",
       "  </thead>\n",
       "  <tbody>\n",
       "    <tr>\n",
       "      <th>Female</th>\n",
       "      <td>512</td>\n",
       "      <td>364</td>\n",
       "      <td>381</td>\n",
       "    </tr>\n",
       "    <tr>\n",
       "      <th>Male</th>\n",
       "      <td>487</td>\n",
       "      <td>369</td>\n",
       "      <td>387</td>\n",
       "    </tr>\n",
       "  </tbody>\n",
       "</table>\n",
       "</div>"
      ],
      "text/plain": [
       "subscription_type  Basic  Premium  Standard\n",
       "gender                                     \n",
       "Female               512      364       381\n",
       "Male                 487      369       387"
      ]
     },
     "execution_count": 146,
     "metadata": {},
     "output_type": "execute_result"
    }
   ],
   "source": [
    "pd.crosstab(d.gender, d.subscription_type)"
   ]
  },
  {
   "cell_type": "markdown",
   "metadata": {},
   "source": [
    "The contingency table shows that subscription_type distribution varies by gender. This suggests that subscription preferences differ between males and females."
   ]
  },
  {
   "cell_type": "markdown",
   "metadata": {},
   "source": []
  },
  {
   "cell_type": "markdown",
   "metadata": {},
   "source": [
    "Visualizing the contingency table as a heatmap"
   ]
  },
  {
   "cell_type": "code",
   "execution_count": null,
   "metadata": {},
   "outputs": [
    {
     "data": {
      "image/png": "[encoded data removed]",
      "text/plain": [
       "<Figure size 432x288 with 2 Axes>"
      ]
     },
     "metadata": {},
     "output_type": "display_data"
    }
   ],
   "source": [
    "contingency_table = pd.crosstab(d['gender'], d['subscription_type'])\n",
    "sns.heatmap(contingency_table, annot=True, cmap='Blues', fmt='d')\n",
    "plt.title('Table de Contingence : Genre vs Type d\\'Abonnement')\n",
    "plt.xlabel('Type d\\'Abonnement')\n",
    "plt.ylabel('Genre')\n",
    "plt.show()"
   ]
  },
  {
   "cell_type": "markdown",
   "metadata": {},
   "source": [
    "Normalizing the contingency table by rows"
   ]
  },
  {
   "cell_type": "code",
   "execution_count": null,
   "metadata": {},
   "outputs": [
    {
     "data": {
      "text/html": [
       "<div>\n",
       "<style scoped>\n",
       "    .dataframe tbody tr th:only-of-type {\n",
       "        vertical-align: middle;\n",
       "    }\n",
       "\n",
       "    .dataframe tbody tr th {\n",
       "        vertical-align: top;\n",
       "    }\n",
       "\n",
       "    .dataframe thead th {\n",
       "        text-align: right;\n",
       "    }\n",
       "</style>\n",
       "<table border=\"1\" class=\"dataframe\">\n",
       "  <thead>\n",
       "    <tr style=\"text-align: right;\">\n",
       "      <th>subscription_type</th>\n",
       "      <th>Basic</th>\n",
       "      <th>Premium</th>\n",
       "      <th>Standard</th>\n",
       "    </tr>\n",
       "    <tr>\n",
       "      <th>gender</th>\n",
       "      <th></th>\n",
       "      <th></th>\n",
       "      <th></th>\n",
       "    </tr>\n",
       "  </thead>\n",
       "  <tbody>\n",
       "    <tr>\n",
       "      <th>Female</th>\n",
       "      <td>40.731901</td>\n",
       "      <td>28.957836</td>\n",
       "      <td>30.310263</td>\n",
       "    </tr>\n",
       "    <tr>\n",
       "      <th>Male</th>\n",
       "      <td>39.179405</td>\n",
       "      <td>29.686243</td>\n",
       "      <td>31.134352</td>\n",
       "    </tr>\n",
       "  </tbody>\n",
       "</table>\n",
       "</div>"
      ],
      "text/plain": [
       "subscription_type      Basic    Premium   Standard\n",
       "gender                                            \n",
       "Female             40.731901  28.957836  30.310263\n",
       "Male               39.179405  29.686243  31.134352"
      ]
     },
     "execution_count": 150,
     "metadata": {},
     "output_type": "execute_result"
    }
   ],
   "source": [
    "pd.crosstab(d.gender, d.subscription_type).apply(lambda z: z/z.sum(), axis=1)*100"
   ]
  },
  {
   "cell_type": "markdown",
   "metadata": {},
   "source": [
    "Creating a contingency table for device and subscription type"
   ]
  },
  {
   "cell_type": "code",
   "execution_count": null,
   "metadata": {},
   "outputs": [
    {
     "data": {
      "text/html": [
       "<div>\n",
       "<style scoped>\n",
       "    .dataframe tbody tr th:only-of-type {\n",
       "        vertical-align: middle;\n",
       "    }\n",
       "\n",
       "    .dataframe tbody tr th {\n",
       "        vertical-align: top;\n",
       "    }\n",
       "\n",
       "    .dataframe thead th {\n",
       "        text-align: right;\n",
       "    }\n",
       "</style>\n",
       "<table border=\"1\" class=\"dataframe\">\n",
       "  <thead>\n",
       "    <tr style=\"text-align: right;\">\n",
       "      <th>subscription_type</th>\n",
       "      <th>Basic</th>\n",
       "      <th>Premium</th>\n",
       "      <th>Standard</th>\n",
       "    </tr>\n",
       "    <tr>\n",
       "      <th>device</th>\n",
       "      <th></th>\n",
       "      <th></th>\n",
       "      <th></th>\n",
       "    </tr>\n",
       "  </thead>\n",
       "  <tbody>\n",
       "    <tr>\n",
       "      <th>Laptop</th>\n",
       "      <td>259</td>\n",
       "      <td>192</td>\n",
       "      <td>185</td>\n",
       "    </tr>\n",
       "    <tr>\n",
       "      <th>Smart TV</th>\n",
       "      <td>238</td>\n",
       "      <td>188</td>\n",
       "      <td>184</td>\n",
       "    </tr>\n",
       "    <tr>\n",
       "      <th>Smartphone</th>\n",
       "      <td>251</td>\n",
       "      <td>171</td>\n",
       "      <td>199</td>\n",
       "    </tr>\n",
       "    <tr>\n",
       "      <th>Tablet</th>\n",
       "      <td>251</td>\n",
       "      <td>182</td>\n",
       "      <td>200</td>\n",
       "    </tr>\n",
       "  </tbody>\n",
       "</table>\n",
       "</div>"
      ],
      "text/plain": [
       "subscription_type  Basic  Premium  Standard\n",
       "device                                     \n",
       "Laptop               259      192       185\n",
       "Smart TV             238      188       184\n",
       "Smartphone           251      171       199\n",
       "Tablet               251      182       200"
      ]
     },
     "execution_count": 154,
     "metadata": {},
     "output_type": "execute_result"
    }
   ],
   "source": [
    "pd.crosstab(d.device, d.subscription_type)"
   ]
  },
  {
   "cell_type": "markdown",
   "metadata": {},
   "source": [
    "Normalizing the contingency table by rows"
   ]
  },
  {
   "cell_type": "code",
   "execution_count": null,
   "metadata": {},
   "outputs": [
    {
     "data": {
      "text/html": [
       "<div>\n",
       "<style scoped>\n",
       "    .dataframe tbody tr th:only-of-type {\n",
       "        vertical-align: middle;\n",
       "    }\n",
       "\n",
       "    .dataframe tbody tr th {\n",
       "        vertical-align: top;\n",
       "    }\n",
       "\n",
       "    .dataframe thead th {\n",
       "        text-align: right;\n",
       "    }\n",
       "</style>\n",
       "<table border=\"1\" class=\"dataframe\">\n",
       "  <thead>\n",
       "    <tr style=\"text-align: right;\">\n",
       "      <th>subscription_type</th>\n",
       "      <th>Basic</th>\n",
       "      <th>Premium</th>\n",
       "      <th>Standard</th>\n",
       "    </tr>\n",
       "    <tr>\n",
       "      <th>device</th>\n",
       "      <th></th>\n",
       "      <th></th>\n",
       "      <th></th>\n",
       "    </tr>\n",
       "  </thead>\n",
       "  <tbody>\n",
       "    <tr>\n",
       "      <th>Laptop</th>\n",
       "      <td>40.723270</td>\n",
       "      <td>30.188679</td>\n",
       "      <td>29.088050</td>\n",
       "    </tr>\n",
       "    <tr>\n",
       "      <th>Smart TV</th>\n",
       "      <td>39.016393</td>\n",
       "      <td>30.819672</td>\n",
       "      <td>30.163934</td>\n",
       "    </tr>\n",
       "    <tr>\n",
       "      <th>Smartphone</th>\n",
       "      <td>40.418680</td>\n",
       "      <td>27.536232</td>\n",
       "      <td>32.045089</td>\n",
       "    </tr>\n",
       "    <tr>\n",
       "      <th>Tablet</th>\n",
       "      <td>39.652449</td>\n",
       "      <td>28.751975</td>\n",
       "      <td>31.595577</td>\n",
       "    </tr>\n",
       "  </tbody>\n",
       "</table>\n",
       "</div>"
      ],
      "text/plain": [
       "subscription_type      Basic    Premium   Standard\n",
       "device                                            \n",
       "Laptop             40.723270  30.188679  29.088050\n",
       "Smart TV           39.016393  30.819672  30.163934\n",
       "Smartphone         40.418680  27.536232  32.045089\n",
       "Tablet             39.652449  28.751975  31.595577"
      ]
     },
     "execution_count": 152,
     "metadata": {},
     "output_type": "execute_result"
    }
   ],
   "source": [
    "pd.crosstab(d.device, d.subscription_type).apply(lambda z: z/z.sum(), axis=1)*100"
   ]
  },
  {
   "cell_type": "markdown",
   "metadata": {},
   "source": [
    "The contingency table shows that subscription_type distribution varies by device. This indicates that device type influences subscription preferences."
   ]
  },
  {
   "cell_type": "markdown",
   "metadata": {},
   "source": []
  },
  {
   "cell_type": "markdown",
   "metadata": {},
   "source": [
    "Normalizing the contingency table by columns"
   ]
  },
  {
   "cell_type": "code",
   "execution_count": null,
   "metadata": {},
   "outputs": [
    {
     "data": {
      "text/html": [
       "<div>\n",
       "<style scoped>\n",
       "    .dataframe tbody tr th:only-of-type {\n",
       "        vertical-align: middle;\n",
       "    }\n",
       "\n",
       "    .dataframe tbody tr th {\n",
       "        vertical-align: top;\n",
       "    }\n",
       "\n",
       "    .dataframe thead th {\n",
       "        text-align: right;\n",
       "    }\n",
       "</style>\n",
       "<table border=\"1\" class=\"dataframe\">\n",
       "  <thead>\n",
       "    <tr style=\"text-align: right;\">\n",
       "      <th>subscription_type</th>\n",
       "      <th>Basic</th>\n",
       "      <th>Premium</th>\n",
       "      <th>Standard</th>\n",
       "    </tr>\n",
       "    <tr>\n",
       "      <th>device</th>\n",
       "      <th></th>\n",
       "      <th></th>\n",
       "      <th></th>\n",
       "    </tr>\n",
       "  </thead>\n",
       "  <tbody>\n",
       "    <tr>\n",
       "      <th>Laptop</th>\n",
       "      <td>25.925926</td>\n",
       "      <td>26.193724</td>\n",
       "      <td>24.088542</td>\n",
       "    </tr>\n",
       "    <tr>\n",
       "      <th>Smart TV</th>\n",
       "      <td>23.823824</td>\n",
       "      <td>25.648022</td>\n",
       "      <td>23.958333</td>\n",
       "    </tr>\n",
       "    <tr>\n",
       "      <th>Smartphone</th>\n",
       "      <td>25.125125</td>\n",
       "      <td>23.328786</td>\n",
       "      <td>25.911458</td>\n",
       "    </tr>\n",
       "    <tr>\n",
       "      <th>Tablet</th>\n",
       "      <td>25.125125</td>\n",
       "      <td>24.829468</td>\n",
       "      <td>26.041667</td>\n",
       "    </tr>\n",
       "  </tbody>\n",
       "</table>\n",
       "</div>"
      ],
      "text/plain": [
       "subscription_type      Basic    Premium   Standard\n",
       "device                                            \n",
       "Laptop             25.925926  26.193724  24.088542\n",
       "Smart TV           23.823824  25.648022  23.958333\n",
       "Smartphone         25.125125  23.328786  25.911458\n",
       "Tablet             25.125125  24.829468  26.041667"
      ]
     },
     "execution_count": 153,
     "metadata": {},
     "output_type": "execute_result"
    }
   ],
   "source": [
    "pd.crosstab(d.device,d.subscription_type).apply(lambda z: z/z.sum(), axis=0)*100"
   ]
  },
  {
   "cell_type": "markdown",
   "metadata": {},
   "source": [
    "Visualizing the distribution of subscription types by device"
   ]
  },
  {
   "cell_type": "code",
   "execution_count": null,
   "metadata": {},
   "outputs": [
    {
     "data": {
      "text/plain": [
       "Text(0.5, 1.0, \"Distribution des types d'abonnement par appareil\")"
      ]
     },
     "execution_count": 155,
     "metadata": {},
     "output_type": "execute_result"
    },
    {
     "data": {
      "image/png": "[encoded data removed]",
      "text/plain": [
       "<Figure size 432x288 with 1 Axes>"
      ]
     },
     "metadata": {},
     "output_type": "display_data"
    }
   ],
   "source": [
    "sns.countplot(x=\"device\",hue=\"subscription_type\",data=d)\n",
    "plt.title(\"Distribution des types d'abonnement par appareil\")"
   ]
  },
  {
   "cell_type": "markdown",
   "metadata": {},
   "source": [
    "Certain devices might be more popular among specific subscription tiers."
   ]
  },
  {
   "cell_type": "markdown",
   "metadata": {},
   "source": []
  },
  {
   "cell_type": "markdown",
   "metadata": {},
   "source": [
    "Visualizing the distribution of devices by gender"
   ]
  },
  {
   "cell_type": "code",
   "execution_count": null,
   "metadata": {},
   "outputs": [
    {
     "data": {
      "text/plain": [
       "Text(0.5, 1.0, 'Distribution des appareils par genre')"
      ]
     },
     "execution_count": 156,
     "metadata": {},
     "output_type": "execute_result"
    },
    {
     "data": {
      "image/png": "[encoded data removed]",
      "text/plain": [
       "<Figure size 432x288 with 1 Axes>"
      ]
     },
     "metadata": {},
     "output_type": "display_data"
    }
   ],
   "source": [
    "sns.countplot(x=\"gender\",hue=\"device\",data=d)\n",
    "plt.title(\"Distribution des appareils par genre\")"
   ]
  },
  {
   "cell_type": "markdown",
   "metadata": {},
   "source": [
    "This suggests that device preferences are influenced by gender."
   ]
  },
  {
   "cell_type": "markdown",
   "metadata": {},
   "source": []
  },
  {
   "cell_type": "markdown",
   "metadata": {},
   "source": [
    "Visualizing the distribution of subscription types by start month"
   ]
  },
  {
   "cell_type": "code",
   "execution_count": null,
   "metadata": {},
   "outputs": [
    {
     "data": {
      "text/plain": [
       "Text(0.5, 1.0, \"Distribution des types d'abonnement par mois d'inscription\")"
      ]
     },
     "execution_count": 162,
     "metadata": {},
     "output_type": "execute_result"
    },
    {
     "data": {
      "image/png": "[encoded data removed]",
      "text/plain": [
       "<Figure size 1008x432 with 1 Axes>"
      ]
     },
     "metadata": {},
     "output_type": "display_data"
    }
   ],
   "source": [
    "plt.figure(figsize=(14, 6))\n",
    "sns.countplot(x=\"subscription_type\",hue=\"start_month\",data=d)\n",
    "plt.title(\"Distribution des types d'abonnement par mois d'inscription\")\n"
   ]
  },
  {
   "cell_type": "markdown",
   "metadata": {},
   "source": [
    "The distribution of subscription_type varies by start_month. This could indicate seasonal trends in subscription preferences."
   ]
  },
  {
   "cell_type": "markdown",
   "metadata": {},
   "source": []
  },
  {
   "cell_type": "markdown",
   "metadata": {},
   "source": [
    "Visualizing subscription duration by device"
   ]
  },
  {
   "cell_type": "code",
   "execution_count": null,
   "metadata": {},
   "outputs": [
    {
     "data": {
      "text/plain": [
       "Text(0.5, 1.0, \"Durée d'abonnement par appareil\")"
      ]
     },
     "execution_count": 167,
     "metadata": {},
     "output_type": "execute_result"
    },
    {
     "data": {
      "image/png": "[encoded data removed]",
      "text/plain": [
       "<Figure size 864x288 with 1 Axes>"
      ]
     },
     "metadata": {},
     "output_type": "display_data"
    }
   ],
   "source": [
    "plt.figure(figsize=(12, 4))\n",
    "\n",
    "sns.boxplot(x = 'device', y = 'subscribed_duration', data = d)\n",
    "plt.title('Durée d\\'abonnement par appareil')"
   ]
  },
  {
   "cell_type": "markdown",
   "metadata": {},
   "source": [
    "Visualizing monthly revenue by device and gender"
   ]
  },
  {
   "cell_type": "code",
   "execution_count": null,
   "metadata": {},
   "outputs": [
    {
     "data": {
      "text/plain": [
       "<AxesSubplot:xlabel='device', ylabel='monthly_revenue'>"
      ]
     },
     "execution_count": 169,
     "metadata": {},
     "output_type": "execute_result"
    },
    {
     "data": {
      "image/png": "[encoded data removed]",
      "text/plain": [
       "<Figure size 864x288 with 1 Axes>"
      ]
     },
     "metadata": {},
     "output_type": "display_data"
    }
   ],
   "source": [
    "plt.figure(figsize=(12, 4))\n",
    "\n",
    "sns.boxplot(x = 'device', y = 'monthly_revenue', hue = 'gender', data = d)\n",
    "plt.title('Revenu mensuel par appareil et genre')\n"
   ]
  },
  {
   "cell_type": "markdown",
   "metadata": {},
   "source": [
    "Monthly revenue varies by both device and gender. This highlights the combined influence of device type and gender on spending behavior."
   ]
  },
  {
   "cell_type": "markdown",
   "metadata": {},
   "source": []
  },
  {
   "cell_type": "markdown",
   "metadata": {},
   "source": [
    "Visualizing CLV distribution by country"
   ]
  },
  {
   "cell_type": "code",
   "execution_count": null,
   "metadata": {},
   "outputs": [
    {
     "data": {
      "text/plain": [
       "(array([0, 1, 2, 3, 4, 5, 6, 7, 8, 9]),\n",
       " [Text(0, 0, 'United States'),\n",
       "  Text(1, 0, 'Canada'),\n",
       "  Text(2, 0, 'United Kingdom'),\n",
       "  Text(3, 0, 'Australia'),\n",
       "  Text(4, 0, 'Germany'),\n",
       "  Text(5, 0, 'France'),\n",
       "  Text(6, 0, 'Brazil'),\n",
       "  Text(7, 0, 'Mexico'),\n",
       "  Text(8, 0, 'Spain'),\n",
       "  Text(9, 0, 'Italy')])"
      ]
     },
     "execution_count": 171,
     "metadata": {},
     "output_type": "execute_result"
    },
    {
     "data": {
      "image/png": "[encoded data removed]",
      "text/plain": [
       "<Figure size 432x288 with 1 Axes>"
      ]
     },
     "metadata": {},
     "output_type": "display_data"
    }
   ],
   "source": [
    "sns.boxplot(x=\"country\",y=\"clv\",data=d)\n",
    "plt.xticks(rotation=45)\n",
    "plt.title(\"Distribution de la valeur à vie par pays\")"
   ]
  },
  {
   "cell_type": "markdown",
   "metadata": {},
   "source": [
    "The clv distribution varies significantly across countries, indicating that user lifetime value is influenced by regional factors."
   ]
  },
  {
   "cell_type": "markdown",
   "metadata": {},
   "source": []
  },
  {
   "cell_type": "markdown",
   "metadata": {},
   "source": [
    "Convert (gender) column from strings to binary numeric values\n"
   ]
  },
  {
   "cell_type": "code",
   "execution_count": 79,
   "metadata": {},
   "outputs": [
    {
     "name": "stderr",
     "output_type": "stream",
     "text": [
      "c:\\Users\\DELL\\anaconda3\\lib\\site-packages\\IPython\\core\\formatters.py:343: FutureWarning: Index.format is deprecated and will be removed in a future version. Convert using index.astype(str) or index.map(formatter) instead.\n",
      "  return method()\n",
      "c:\\Users\\DELL\\anaconda3\\lib\\site-packages\\IPython\\core\\formatters.py:343: FutureWarning: RangeIndex.format is deprecated and will be removed in a future version. Convert using index.astype(str) or index.map(formatter) instead.\n",
      "  return method()\n"
     ]
    },
    {
     "data": {
      "text/html": [
       "<div>\n",
       "<style scoped>\n",
       "    .dataframe tbody tr th:only-of-type {\n",
       "        vertical-align: middle;\n",
       "    }\n",
       "\n",
       "    .dataframe tbody tr th {\n",
       "        vertical-align: top;\n",
       "    }\n",
       "\n",
       "    .dataframe thead th {\n",
       "        text-align: right;\n",
       "    }\n",
       "</style>\n",
       "<table border=\"1\" class=\"dataframe\">\n",
       "  <thead>\n",
       "    <tr style=\"text-align: right;\">\n",
       "      <th></th>\n",
       "      <th>subscription_type</th>\n",
       "      <th>monthly_revenue</th>\n",
       "      <th>country</th>\n",
       "      <th>age</th>\n",
       "      <th>gender</th>\n",
       "      <th>device</th>\n",
       "      <th>plan_duration</th>\n",
       "      <th>subscribed_duration</th>\n",
       "      <th>start_month</th>\n",
       "      <th>clv</th>\n",
       "    </tr>\n",
       "  </thead>\n",
       "  <tbody>\n",
       "    <tr>\n",
       "      <th>0</th>\n",
       "      <td>0</td>\n",
       "      <td>10</td>\n",
       "      <td>United States</td>\n",
       "      <td>28</td>\n",
       "      <td>-1</td>\n",
       "      <td>Smartphone</td>\n",
       "      <td>1 Month</td>\n",
       "      <td>629</td>\n",
       "      <td>1</td>\n",
       "      <td>6290</td>\n",
       "    </tr>\n",
       "    <tr>\n",
       "      <th>1</th>\n",
       "      <td>2</td>\n",
       "      <td>15</td>\n",
       "      <td>Canada</td>\n",
       "      <td>35</td>\n",
       "      <td>-1</td>\n",
       "      <td>Tablet</td>\n",
       "      <td>1 Month</td>\n",
       "      <td>774</td>\n",
       "      <td>5</td>\n",
       "      <td>11610</td>\n",
       "    </tr>\n",
       "    <tr>\n",
       "      <th>2</th>\n",
       "      <td>1</td>\n",
       "      <td>12</td>\n",
       "      <td>United Kingdom</td>\n",
       "      <td>42</td>\n",
       "      <td>-1</td>\n",
       "      <td>Smart TV</td>\n",
       "      <td>1 Month</td>\n",
       "      <td>119</td>\n",
       "      <td>2</td>\n",
       "      <td>1428</td>\n",
       "    </tr>\n",
       "    <tr>\n",
       "      <th>3</th>\n",
       "      <td>1</td>\n",
       "      <td>12</td>\n",
       "      <td>Australia</td>\n",
       "      <td>51</td>\n",
       "      <td>-1</td>\n",
       "      <td>Laptop</td>\n",
       "      <td>1 Month</td>\n",
       "      <td>262</td>\n",
       "      <td>10</td>\n",
       "      <td>3144</td>\n",
       "    </tr>\n",
       "    <tr>\n",
       "      <th>4</th>\n",
       "      <td>0</td>\n",
       "      <td>10</td>\n",
       "      <td>Germany</td>\n",
       "      <td>33</td>\n",
       "      <td>-1</td>\n",
       "      <td>Smartphone</td>\n",
       "      <td>1 Month</td>\n",
       "      <td>174</td>\n",
       "      <td>1</td>\n",
       "      <td>1740</td>\n",
       "    </tr>\n",
       "  </tbody>\n",
       "</table>\n",
       "</div>"
      ],
      "text/plain": [
       "   subscription_type  monthly_revenue         country  age  gender   \n",
       "0                  0               10   United States   28      -1  \\\n",
       "1                  2               15          Canada   35      -1   \n",
       "2                  1               12  United Kingdom   42      -1   \n",
       "3                  1               12       Australia   51      -1   \n",
       "4                  0               10         Germany   33      -1   \n",
       "\n",
       "       device plan_duration  subscribed_duration  start_month    clv  \n",
       "0  Smartphone       1 Month                  629            1   6290  \n",
       "1      Tablet       1 Month                  774            5  11610  \n",
       "2    Smart TV       1 Month                  119            2   1428  \n",
       "3      Laptop       1 Month                  262           10   3144  \n",
       "4  Smartphone       1 Month                  174            1   1740  "
      ]
     },
     "execution_count": 79,
     "metadata": {},
     "output_type": "execute_result"
    }
   ],
   "source": [
    "gender_map = {'Male': 1, 'Female': 0}\n",
    "d['gender'] = d['gender'].map(gender_map).fillna(-1).astype('int64')\n",
    "d.head()"
   ]
  }
 ],
 "metadata": {
  "kernelspec": {
   "display_name": "base",
   "language": "python",
   "name": "python3"
  },
  "language_info": {
   "codemirror_mode": {
    "name": "ipython",
    "version": 3
   },
   "file_extension": ".py",
   "mimetype": "text/x-python",
   "name": "python",
   "nbconvert_exporter": "python",
   "pygments_lexer": "ipython3",
   "version": "3.9.12"
  }
 },
 "nbformat": 4,
 "nbformat_minor": 2
}
